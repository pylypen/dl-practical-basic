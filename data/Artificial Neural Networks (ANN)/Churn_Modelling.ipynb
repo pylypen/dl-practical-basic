{
 "cells": [
  {
   "cell_type": "markdown",
   "metadata": {
    "colab_type": "text",
    "id": "lP6JLo1tGNBg"
   },
   "source": [
    "# Artificial Neural Network"
   ]
  },
  {
   "cell_type": "markdown",
   "metadata": {
    "colab_type": "text",
    "id": "gWZyYmS_UE_L"
   },
   "source": [
    "### Importing the libraries"
   ]
  },
  {
   "cell_type": "code",
   "execution_count": 1,
   "metadata": {
    "colab": {},
    "colab_type": "code",
    "id": "MxkJoQBkUIHC"
   },
   "outputs": [],
   "source": [
    "import numpy as np\n",
    "import pandas as pd\n",
    "import tensorflow as tf"
   ]
  },
  {
   "cell_type": "code",
   "execution_count": 2,
   "metadata": {
    "colab": {
     "base_uri": "https://localhost:8080/",
     "height": 34
    },
    "colab_type": "code",
    "id": "ZaTwK7ojXr2F",
    "outputId": "0b27a96d-d11a-43e8-ab4b-87c1f01896fe"
   },
   "outputs": [
    {
     "data": {
      "text/plain": [
       "'2.3.0'"
      ]
     },
     "execution_count": 2,
     "metadata": {},
     "output_type": "execute_result"
    }
   ],
   "source": [
    "tf.__version__"
   ]
  },
  {
   "cell_type": "markdown",
   "metadata": {
    "colab_type": "text",
    "id": "1E0Q3aoKUCRX"
   },
   "source": [
    "## Part 1 - Data Preprocessing"
   ]
  },
  {
   "cell_type": "markdown",
   "metadata": {
    "colab_type": "text",
    "id": "cKWAkFVGUU0Z"
   },
   "source": [
    "### Importing the dataset"
   ]
  },
  {
   "cell_type": "code",
   "execution_count": 3,
   "metadata": {
    "colab": {},
    "colab_type": "code",
    "id": "MXUkhkMfU4wq"
   },
   "outputs": [
    {
     "name": "stdout",
     "output_type": "stream",
     "text": [
      "<class 'pandas.core.frame.DataFrame'>\n",
      "RangeIndex: 10000 entries, 0 to 9999\n",
      "Data columns (total 14 columns):\n",
      " #   Column           Non-Null Count  Dtype  \n",
      "---  ------           --------------  -----  \n",
      " 0   RowNumber        10000 non-null  int64  \n",
      " 1   CustomerId       10000 non-null  int64  \n",
      " 2   Surname          10000 non-null  object \n",
      " 3   CreditScore      10000 non-null  int64  \n",
      " 4   Geography        10000 non-null  object \n",
      " 5   Gender           10000 non-null  object \n",
      " 6   Age              10000 non-null  int64  \n",
      " 7   Tenure           10000 non-null  int64  \n",
      " 8   Balance          10000 non-null  float64\n",
      " 9   NumOfProducts    10000 non-null  int64  \n",
      " 10  HasCrCard        10000 non-null  int64  \n",
      " 11  IsActiveMember   10000 non-null  int64  \n",
      " 12  EstimatedSalary  10000 non-null  float64\n",
      " 13  Exited           10000 non-null  int64  \n",
      "dtypes: float64(2), int64(9), object(3)\n",
      "memory usage: 1.1+ MB\n",
      "None\n"
     ]
    }
   ],
   "source": [
    "dataset = pd.read_csv('dataset/Churn_Modelling.csv')\n",
    "print(dataset.info())\n",
    "X = dataset.iloc[:, 3:-1].values\n",
    "y = dataset.iloc[:, -1].values"
   ]
  },
  {
   "cell_type": "code",
   "execution_count": 4,
   "metadata": {
    "colab": {
     "base_uri": "https://localhost:8080/",
     "height": 137
    },
    "colab_type": "code",
    "id": "VYP9cQTWbzuI",
    "outputId": "797e7a64-9bac-436a-8c9c-94437e5e7587"
   },
   "outputs": [
    {
     "name": "stdout",
     "output_type": "stream",
     "text": [
      "[[619 'France' 'Female' ... 1 1 101348.88]\n",
      " [608 'Spain' 'Female' ... 0 1 112542.58]\n",
      " [502 'France' 'Female' ... 1 0 113931.57]\n",
      " ...\n",
      " [709 'France' 'Female' ... 0 1 42085.58]\n",
      " [772 'Germany' 'Male' ... 1 0 92888.52]\n",
      " [792 'France' 'Female' ... 1 0 38190.78]]\n"
     ]
    }
   ],
   "source": [
    "print(X)"
   ]
  },
  {
   "cell_type": "code",
   "execution_count": 5,
   "metadata": {
    "colab": {
     "base_uri": "https://localhost:8080/",
     "height": 34
    },
    "colab_type": "code",
    "id": "38vKGE6Nb2RR",
    "outputId": "a815e42a-e0dd-4cb5-ab97-b17ead98fbc3"
   },
   "outputs": [
    {
     "name": "stdout",
     "output_type": "stream",
     "text": [
      "[1 0 1 ... 1 1 0]\n"
     ]
    }
   ],
   "source": [
    "print(y)"
   ]
  },
  {
   "cell_type": "markdown",
   "metadata": {
    "colab_type": "text",
    "id": "N6bQ0UgSU-NJ"
   },
   "source": [
    "### Encoding categorical data"
   ]
  },
  {
   "cell_type": "markdown",
   "metadata": {
    "colab_type": "text",
    "id": "le5MJreAbW52"
   },
   "source": [
    "Label Encoding the \"Gender\" column"
   ]
  },
  {
   "cell_type": "code",
   "execution_count": 6,
   "metadata": {
    "colab": {},
    "colab_type": "code",
    "id": "PxVKWXxLbczC"
   },
   "outputs": [],
   "source": [
    "from sklearn.preprocessing import LabelEncoder\n",
    "le = LabelEncoder()\n",
    "X[:, 2] = le.fit_transform(X[:, 2])"
   ]
  },
  {
   "cell_type": "code",
   "execution_count": 7,
   "metadata": {
    "colab": {
     "base_uri": "https://localhost:8080/",
     "height": 137
    },
    "colab_type": "code",
    "id": "-M1KboxFb6OO",
    "outputId": "e2b8c7e8-0cbc-4cdf-f4eb-7f0853a00b88"
   },
   "outputs": [
    {
     "name": "stdout",
     "output_type": "stream",
     "text": [
      "[[619 'France' 0 ... 1 1 101348.88]\n",
      " [608 'Spain' 0 ... 0 1 112542.58]\n",
      " [502 'France' 0 ... 1 0 113931.57]\n",
      " ...\n",
      " [709 'France' 0 ... 0 1 42085.58]\n",
      " [772 'Germany' 1 ... 1 0 92888.52]\n",
      " [792 'France' 0 ... 1 0 38190.78]]\n",
      "(10000, 10)\n"
     ]
    }
   ],
   "source": [
    "print(X)\n",
    "print(X.shape)"
   ]
  },
  {
   "cell_type": "markdown",
   "metadata": {
    "colab_type": "text",
    "id": "CUxGZezpbMcb"
   },
   "source": [
    "One Hot Encoding the \"Geography\" column"
   ]
  },
  {
   "cell_type": "code",
   "execution_count": 8,
   "metadata": {
    "colab": {},
    "colab_type": "code",
    "id": "AMXC8-KMVirw"
   },
   "outputs": [],
   "source": [
    "from sklearn.compose import ColumnTransformer\n",
    "from sklearn.preprocessing import OneHotEncoder\n",
    "ct = ColumnTransformer(transformers=[('encoder', OneHotEncoder(), [1])], remainder='passthrough')\n",
    "X = np.array(ct.fit_transform(X))"
   ]
  },
  {
   "cell_type": "code",
   "execution_count": 9,
   "metadata": {
    "colab": {
     "base_uri": "https://localhost:8080/",
     "height": 137
    },
    "colab_type": "code",
    "id": "ZcxwEon-b8nV",
    "outputId": "23a98af4-5e33-4b26-c27b-f06e3c5d2baf"
   },
   "outputs": [
    {
     "name": "stdout",
     "output_type": "stream",
     "text": [
      "[[1.0 0.0 0.0 ... 1 1 101348.88]\n",
      " [0.0 0.0 1.0 ... 0 1 112542.58]\n",
      " [1.0 0.0 0.0 ... 1 0 113931.57]\n",
      " ...\n",
      " [1.0 0.0 0.0 ... 0 1 42085.58]\n",
      " [0.0 1.0 0.0 ... 1 0 92888.52]\n",
      " [1.0 0.0 0.0 ... 1 0 38190.78]]\n",
      "(10000, 12)\n"
     ]
    }
   ],
   "source": [
    "print(X)\n",
    "print(X.shape)"
   ]
  },
  {
   "cell_type": "markdown",
   "metadata": {
    "colab_type": "text",
    "id": "vHol938cW8zd"
   },
   "source": [
    "### Splitting the dataset into the Training set and Test set"
   ]
  },
  {
   "cell_type": "code",
   "execution_count": 10,
   "metadata": {
    "colab": {},
    "colab_type": "code",
    "id": "Z-TDt0Y_XEfc"
   },
   "outputs": [],
   "source": [
    "from sklearn.model_selection import train_test_split\n",
    "X_train, X_test, y_train, y_test = train_test_split(X, y, test_size = 0.2, random_state = 0)"
   ]
  },
  {
   "cell_type": "markdown",
   "metadata": {
    "colab_type": "text",
    "id": "RE_FcHyfV3TQ"
   },
   "source": [
    "### Feature Scaling"
   ]
  },
  {
   "cell_type": "code",
   "execution_count": 11,
   "metadata": {
    "colab": {},
    "colab_type": "code",
    "id": "ViCrE00rV8Sk"
   },
   "outputs": [],
   "source": [
    "from sklearn.preprocessing import StandardScaler\n",
    "sc = StandardScaler()\n",
    "X_train = sc.fit_transform(X_train)\n",
    "X_test = sc.transform(X_test)"
   ]
  },
  {
   "cell_type": "markdown",
   "metadata": {
    "colab_type": "text",
    "id": "-zfEzkRVXIwF"
   },
   "source": [
    "## Part 2 - Building the ANN"
   ]
  },
  {
   "cell_type": "markdown",
   "metadata": {
    "colab_type": "text",
    "id": "KvdeScabXtlB"
   },
   "source": [
    "### Initializing the ANN"
   ]
  },
  {
   "cell_type": "code",
   "execution_count": 12,
   "metadata": {
    "colab": {},
    "colab_type": "code",
    "id": "3dtrScHxXQox"
   },
   "outputs": [],
   "source": [
    "ann = tf.keras.models.Sequential()"
   ]
  },
  {
   "cell_type": "markdown",
   "metadata": {
    "colab_type": "text",
    "id": "rP6urV6SX7kS"
   },
   "source": [
    "### Adding the input layer and the first hidden layer"
   ]
  },
  {
   "cell_type": "code",
   "execution_count": 13,
   "metadata": {
    "colab": {},
    "colab_type": "code",
    "id": "bppGycBXYCQr"
   },
   "outputs": [],
   "source": [
    "ann.add(tf.keras.layers.Dense(units=24, activation='relu'))"
   ]
  },
  {
   "cell_type": "code",
   "execution_count": 14,
   "metadata": {},
   "outputs": [],
   "source": [
    "ann.add(tf.keras.layers.Dropout(0.1))"
   ]
  },
  {
   "cell_type": "markdown",
   "metadata": {
    "colab_type": "text",
    "id": "BELWAc_8YJze"
   },
   "source": [
    "### Adding the second hidden layer"
   ]
  },
  {
   "cell_type": "code",
   "execution_count": 15,
   "metadata": {
    "colab": {},
    "colab_type": "code",
    "id": "JneR0u0sYRTd"
   },
   "outputs": [],
   "source": [
    "ann.add(tf.keras.layers.Dense(units=24, activation='relu'))"
   ]
  },
  {
   "cell_type": "markdown",
   "metadata": {
    "colab_type": "text",
    "id": "OyNEe6RXYcU4"
   },
   "source": [
    "### Adding the output layer"
   ]
  },
  {
   "cell_type": "code",
   "execution_count": 16,
   "metadata": {
    "colab": {},
    "colab_type": "code",
    "id": "Cn3x41RBYfvY"
   },
   "outputs": [],
   "source": [
    "ann.add(tf.keras.layers.Dense(units=1, activation='sigmoid'))"
   ]
  },
  {
   "cell_type": "markdown",
   "metadata": {
    "colab_type": "text",
    "id": "JT4u2S1_Y4WG"
   },
   "source": [
    "## Part 3 - Training the ANN"
   ]
  },
  {
   "cell_type": "markdown",
   "metadata": {
    "colab_type": "text",
    "id": "8GWlJChhY_ZI"
   },
   "source": [
    "### Compiling the ANN"
   ]
  },
  {
   "cell_type": "code",
   "execution_count": 17,
   "metadata": {
    "colab": {},
    "colab_type": "code",
    "id": "fG3RrwDXZEaS"
   },
   "outputs": [],
   "source": [
    "ann.compile(optimizer = 'adam', loss = 'binary_crossentropy', metrics = ['accuracy'])"
   ]
  },
  {
   "cell_type": "markdown",
   "metadata": {
    "colab_type": "text",
    "id": "0QR_G5u7ZLSM"
   },
   "source": [
    "### Training the ANN on the Training set"
   ]
  },
  {
   "cell_type": "code",
   "execution_count": 18,
   "metadata": {
    "colab": {
     "base_uri": "https://localhost:8080/",
     "height": 1000
    },
    "colab_type": "code",
    "id": "nHZ-LKv_ZRb3",
    "outputId": "718cc4b0-b5aa-40f0-9b20-d3d31730a531"
   },
   "outputs": [
    {
     "name": "stdout",
     "output_type": "stream",
     "text": [
      "Epoch 1/500\n",
      "63/63 [==============================] - 0s 1ms/step - loss: 0.6092 - accuracy: 0.7007\n",
      "Epoch 2/500\n",
      "63/63 [==============================] - 0s 1ms/step - loss: 0.4908 - accuracy: 0.7969\n",
      "Epoch 3/500\n",
      "63/63 [==============================] - 0s 1ms/step - loss: 0.4539 - accuracy: 0.7997\n",
      "Epoch 4/500\n",
      "63/63 [==============================] - 0s 1ms/step - loss: 0.4350 - accuracy: 0.8049\n",
      "Epoch 5/500\n",
      "63/63 [==============================] - 0s 1ms/step - loss: 0.4254 - accuracy: 0.8169\n",
      "Epoch 6/500\n",
      "63/63 [==============================] - 0s 1ms/step - loss: 0.4142 - accuracy: 0.8188\n",
      "Epoch 7/500\n",
      "63/63 [==============================] - 0s 1ms/step - loss: 0.4043 - accuracy: 0.8285\n",
      "Epoch 8/500\n",
      "63/63 [==============================] - 0s 1ms/step - loss: 0.3972 - accuracy: 0.8341\n",
      "Epoch 9/500\n",
      "63/63 [==============================] - 0s 1ms/step - loss: 0.3882 - accuracy: 0.8363\n",
      "Epoch 10/500\n",
      "63/63 [==============================] - 0s 1ms/step - loss: 0.3782 - accuracy: 0.8431\n",
      "Epoch 11/500\n",
      "63/63 [==============================] - 0s 1ms/step - loss: 0.3720 - accuracy: 0.8444\n",
      "Epoch 12/500\n",
      "63/63 [==============================] - 0s 1ms/step - loss: 0.3692 - accuracy: 0.8472\n",
      "Epoch 13/500\n",
      "63/63 [==============================] - 0s 991us/step - loss: 0.3636 - accuracy: 0.8476\n",
      "Epoch 14/500\n",
      "63/63 [==============================] - 0s 1ms/step - loss: 0.3641 - accuracy: 0.8469\n",
      "Epoch 15/500\n",
      "63/63 [==============================] - 0s 1ms/step - loss: 0.3605 - accuracy: 0.8496\n",
      "Epoch 16/500\n",
      "63/63 [==============================] - 0s 1ms/step - loss: 0.3566 - accuracy: 0.8539\n",
      "Epoch 17/500\n",
      "63/63 [==============================] - 0s 1ms/step - loss: 0.3545 - accuracy: 0.8516\n",
      "Epoch 18/500\n",
      "63/63 [==============================] - 0s 1ms/step - loss: 0.3539 - accuracy: 0.8511\n",
      "Epoch 19/500\n",
      "63/63 [==============================] - 0s 1ms/step - loss: 0.3490 - accuracy: 0.8546\n",
      "Epoch 20/500\n",
      "63/63 [==============================] - 0s 1ms/step - loss: 0.3510 - accuracy: 0.8522\n",
      "Epoch 21/500\n",
      "63/63 [==============================] - 0s 985us/step - loss: 0.3503 - accuracy: 0.8521\n",
      "Epoch 22/500\n",
      "63/63 [==============================] - 0s 1ms/step - loss: 0.3499 - accuracy: 0.8572\n",
      "Epoch 23/500\n",
      "63/63 [==============================] - 0s 1ms/step - loss: 0.3476 - accuracy: 0.8526\n",
      "Epoch 24/500\n",
      "63/63 [==============================] - 0s 1ms/step - loss: 0.3460 - accuracy: 0.8579\n",
      "Epoch 25/500\n",
      "63/63 [==============================] - 0s 1ms/step - loss: 0.3448 - accuracy: 0.8585\n",
      "Epoch 26/500\n",
      "63/63 [==============================] - 0s 1ms/step - loss: 0.3459 - accuracy: 0.8546\n",
      "Epoch 27/500\n",
      "63/63 [==============================] - 0s 1ms/step - loss: 0.3485 - accuracy: 0.8515\n",
      "Epoch 28/500\n",
      "63/63 [==============================] - 0s 1ms/step - loss: 0.3454 - accuracy: 0.8554\n",
      "Epoch 29/500\n",
      "63/63 [==============================] - 0s 1ms/step - loss: 0.3440 - accuracy: 0.8559\n",
      "Epoch 30/500\n",
      "63/63 [==============================] - 0s 1ms/step - loss: 0.3430 - accuracy: 0.8581\n",
      "Epoch 31/500\n",
      "63/63 [==============================] - 0s 1ms/step - loss: 0.3387 - accuracy: 0.8602\n",
      "Epoch 32/500\n",
      "63/63 [==============================] - 0s 1ms/step - loss: 0.3399 - accuracy: 0.8583\n",
      "Epoch 33/500\n",
      "63/63 [==============================] - 0s 1ms/step - loss: 0.3383 - accuracy: 0.8576\n",
      "Epoch 34/500\n",
      "63/63 [==============================] - 0s 1ms/step - loss: 0.3399 - accuracy: 0.8575\n",
      "Epoch 35/500\n",
      "63/63 [==============================] - 0s 1ms/step - loss: 0.3382 - accuracy: 0.8575\n",
      "Epoch 36/500\n",
      "63/63 [==============================] - 0s 1ms/step - loss: 0.3411 - accuracy: 0.8593\n",
      "Epoch 37/500\n",
      "63/63 [==============================] - 0s 1ms/step - loss: 0.3367 - accuracy: 0.8599\n",
      "Epoch 38/500\n",
      "63/63 [==============================] - 0s 1ms/step - loss: 0.3379 - accuracy: 0.8601\n",
      "Epoch 39/500\n",
      "63/63 [==============================] - 0s 1ms/step - loss: 0.3333 - accuracy: 0.8621\n",
      "Epoch 40/500\n",
      "63/63 [==============================] - 0s 1ms/step - loss: 0.3359 - accuracy: 0.8605\n",
      "Epoch 41/500\n",
      "63/63 [==============================] - 0s 1ms/step - loss: 0.3376 - accuracy: 0.8609\n",
      "Epoch 42/500\n",
      "63/63 [==============================] - 0s 1ms/step - loss: 0.3338 - accuracy: 0.8652\n",
      "Epoch 43/500\n",
      "63/63 [==============================] - 0s 1ms/step - loss: 0.3346 - accuracy: 0.8596\n",
      "Epoch 44/500\n",
      "63/63 [==============================] - 0s 1ms/step - loss: 0.3336 - accuracy: 0.8605\n",
      "Epoch 45/500\n",
      "63/63 [==============================] - 0s 1ms/step - loss: 0.3322 - accuracy: 0.8611\n",
      "Epoch 46/500\n",
      "63/63 [==============================] - 0s 1ms/step - loss: 0.3308 - accuracy: 0.8666\n",
      "Epoch 47/500\n",
      "63/63 [==============================] - 0s 1ms/step - loss: 0.3329 - accuracy: 0.8624\n",
      "Epoch 48/500\n",
      "63/63 [==============================] - 0s 1ms/step - loss: 0.3326 - accuracy: 0.8614\n",
      "Epoch 49/500\n",
      "63/63 [==============================] - 0s 1ms/step - loss: 0.3342 - accuracy: 0.8604\n",
      "Epoch 50/500\n",
      "63/63 [==============================] - 0s 1ms/step - loss: 0.3322 - accuracy: 0.8635\n",
      "Epoch 51/500\n",
      "63/63 [==============================] - 0s 1ms/step - loss: 0.3313 - accuracy: 0.8616\n",
      "Epoch 52/500\n",
      "63/63 [==============================] - 0s 1ms/step - loss: 0.3308 - accuracy: 0.8644\n",
      "Epoch 53/500\n",
      "63/63 [==============================] - 0s 1ms/step - loss: 0.3288 - accuracy: 0.8622\n",
      "Epoch 54/500\n",
      "63/63 [==============================] - 0s 1ms/step - loss: 0.3307 - accuracy: 0.8606\n",
      "Epoch 55/500\n",
      "63/63 [==============================] - 0s 1ms/step - loss: 0.3318 - accuracy: 0.8600\n",
      "Epoch 56/500\n",
      "63/63 [==============================] - 0s 1ms/step - loss: 0.3302 - accuracy: 0.8636\n",
      "Epoch 57/500\n",
      "63/63 [==============================] - 0s 1ms/step - loss: 0.3309 - accuracy: 0.8627\n",
      "Epoch 58/500\n",
      "63/63 [==============================] - 0s 1ms/step - loss: 0.3247 - accuracy: 0.8654\n",
      "Epoch 59/500\n",
      "63/63 [==============================] - 0s 1ms/step - loss: 0.3280 - accuracy: 0.8640\n",
      "Epoch 60/500\n",
      "63/63 [==============================] - 0s 1ms/step - loss: 0.3306 - accuracy: 0.8621\n",
      "Epoch 61/500\n",
      "63/63 [==============================] - 0s 1ms/step - loss: 0.3289 - accuracy: 0.8629\n",
      "Epoch 62/500\n",
      "63/63 [==============================] - 0s 1ms/step - loss: 0.3296 - accuracy: 0.8634\n",
      "Epoch 63/500\n",
      "63/63 [==============================] - 0s 1ms/step - loss: 0.3264 - accuracy: 0.8658\n",
      "Epoch 64/500\n",
      "63/63 [==============================] - 0s 1ms/step - loss: 0.3260 - accuracy: 0.8631\n",
      "Epoch 65/500\n",
      "63/63 [==============================] - 0s 1ms/step - loss: 0.3263 - accuracy: 0.8681\n",
      "Epoch 66/500\n",
      "63/63 [==============================] - 0s 1ms/step - loss: 0.3278 - accuracy: 0.8636\n",
      "Epoch 67/500\n",
      "63/63 [==============================] - 0s 1ms/step - loss: 0.3269 - accuracy: 0.8656\n",
      "Epoch 68/500\n",
      "63/63 [==============================] - 0s 979us/step - loss: 0.3272 - accuracy: 0.8669\n",
      "Epoch 69/500\n",
      "63/63 [==============================] - 0s 1ms/step - loss: 0.3261 - accuracy: 0.8658\n",
      "Epoch 70/500\n",
      "63/63 [==============================] - 0s 1ms/step - loss: 0.3234 - accuracy: 0.8659\n",
      "Epoch 71/500\n",
      "63/63 [==============================] - 0s 1ms/step - loss: 0.3269 - accuracy: 0.8639\n",
      "Epoch 72/500\n",
      "63/63 [==============================] - 0s 1ms/step - loss: 0.3243 - accuracy: 0.8656\n",
      "Epoch 73/500\n",
      "63/63 [==============================] - 0s 1ms/step - loss: 0.3273 - accuracy: 0.8661\n",
      "Epoch 74/500\n",
      "63/63 [==============================] - 0s 1ms/step - loss: 0.3239 - accuracy: 0.8644\n",
      "Epoch 75/500\n",
      "63/63 [==============================] - 0s 1ms/step - loss: 0.3244 - accuracy: 0.8651\n",
      "Epoch 76/500\n",
      "63/63 [==============================] - 0s 1ms/step - loss: 0.3259 - accuracy: 0.8656\n",
      "Epoch 77/500\n",
      "63/63 [==============================] - 0s 1ms/step - loss: 0.3251 - accuracy: 0.8634\n",
      "Epoch 78/500\n",
      "63/63 [==============================] - 0s 1ms/step - loss: 0.3245 - accuracy: 0.8668\n",
      "Epoch 79/500\n",
      "63/63 [==============================] - 0s 992us/step - loss: 0.3266 - accuracy: 0.8645\n",
      "Epoch 80/500\n",
      "63/63 [==============================] - 0s 1ms/step - loss: 0.3229 - accuracy: 0.8662\n",
      "Epoch 81/500\n",
      "63/63 [==============================] - 0s 1ms/step - loss: 0.3243 - accuracy: 0.8679\n",
      "Epoch 82/500\n"
     ]
    },
    {
     "name": "stdout",
     "output_type": "stream",
     "text": [
      "63/63 [==============================] - 0s 1ms/step - loss: 0.3229 - accuracy: 0.8655\n",
      "Epoch 83/500\n",
      "63/63 [==============================] - 0s 1ms/step - loss: 0.3190 - accuracy: 0.8680\n",
      "Epoch 84/500\n",
      "63/63 [==============================] - 0s 1ms/step - loss: 0.3204 - accuracy: 0.8681\n",
      "Epoch 85/500\n",
      "63/63 [==============================] - 0s 974us/step - loss: 0.3255 - accuracy: 0.8665\n",
      "Epoch 86/500\n",
      "63/63 [==============================] - 0s 911us/step - loss: 0.3229 - accuracy: 0.8665\n",
      "Epoch 87/500\n",
      "63/63 [==============================] - 0s 1ms/step - loss: 0.3217 - accuracy: 0.8665\n",
      "Epoch 88/500\n",
      "63/63 [==============================] - 0s 1ms/step - loss: 0.3229 - accuracy: 0.8680\n",
      "Epoch 89/500\n",
      "63/63 [==============================] - 0s 989us/step - loss: 0.3222 - accuracy: 0.8671\n",
      "Epoch 90/500\n",
      "63/63 [==============================] - 0s 1ms/step - loss: 0.3203 - accuracy: 0.8700\n",
      "Epoch 91/500\n",
      "63/63 [==============================] - 0s 1ms/step - loss: 0.3221 - accuracy: 0.8666\n",
      "Epoch 92/500\n",
      "63/63 [==============================] - 0s 1ms/step - loss: 0.3213 - accuracy: 0.8670\n",
      "Epoch 93/500\n",
      "63/63 [==============================] - 0s 1ms/step - loss: 0.3208 - accuracy: 0.8659\n",
      "Epoch 94/500\n",
      "63/63 [==============================] - 0s 1ms/step - loss: 0.3201 - accuracy: 0.8690\n",
      "Epoch 95/500\n",
      "63/63 [==============================] - 0s 1ms/step - loss: 0.3199 - accuracy: 0.8698\n",
      "Epoch 96/500\n",
      "63/63 [==============================] - 0s 1ms/step - loss: 0.3180 - accuracy: 0.8695\n",
      "Epoch 97/500\n",
      "63/63 [==============================] - 0s 1ms/step - loss: 0.3224 - accuracy: 0.8661\n",
      "Epoch 98/500\n",
      "63/63 [==============================] - 0s 1ms/step - loss: 0.3164 - accuracy: 0.8709\n",
      "Epoch 99/500\n",
      "63/63 [==============================] - 0s 1ms/step - loss: 0.3190 - accuracy: 0.8716\n",
      "Epoch 100/500\n",
      "63/63 [==============================] - 0s 1ms/step - loss: 0.3199 - accuracy: 0.8676\n",
      "Epoch 101/500\n",
      "63/63 [==============================] - 0s 1ms/step - loss: 0.3187 - accuracy: 0.8699\n",
      "Epoch 102/500\n",
      "63/63 [==============================] - 0s 1ms/step - loss: 0.3180 - accuracy: 0.8674\n",
      "Epoch 103/500\n",
      "63/63 [==============================] - 0s 1ms/step - loss: 0.3194 - accuracy: 0.8689\n",
      "Epoch 104/500\n",
      "63/63 [==============================] - 0s 1ms/step - loss: 0.3188 - accuracy: 0.8690\n",
      "Epoch 105/500\n",
      "63/63 [==============================] - 0s 1ms/step - loss: 0.3191 - accuracy: 0.8685\n",
      "Epoch 106/500\n",
      "63/63 [==============================] - 0s 1ms/step - loss: 0.3201 - accuracy: 0.8683\n",
      "Epoch 107/500\n",
      "63/63 [==============================] - 0s 1ms/step - loss: 0.3185 - accuracy: 0.8673\n",
      "Epoch 108/500\n",
      "63/63 [==============================] - 0s 1ms/step - loss: 0.3166 - accuracy: 0.8695\n",
      "Epoch 109/500\n",
      "63/63 [==============================] - 0s 1ms/step - loss: 0.3194 - accuracy: 0.8701\n",
      "Epoch 110/500\n",
      "63/63 [==============================] - 0s 1ms/step - loss: 0.3190 - accuracy: 0.8660\n",
      "Epoch 111/500\n",
      "63/63 [==============================] - 0s 1ms/step - loss: 0.3188 - accuracy: 0.8706\n",
      "Epoch 112/500\n",
      "63/63 [==============================] - 0s 1ms/step - loss: 0.3186 - accuracy: 0.8656\n",
      "Epoch 113/500\n",
      "63/63 [==============================] - 0s 1ms/step - loss: 0.3172 - accuracy: 0.8684\n",
      "Epoch 114/500\n",
      "63/63 [==============================] - 0s 1ms/step - loss: 0.3188 - accuracy: 0.8674\n",
      "Epoch 115/500\n",
      "63/63 [==============================] - 0s 1ms/step - loss: 0.3184 - accuracy: 0.8705\n",
      "Epoch 116/500\n",
      "63/63 [==============================] - 0s 1ms/step - loss: 0.3187 - accuracy: 0.8691\n",
      "Epoch 117/500\n",
      "63/63 [==============================] - 0s 1ms/step - loss: 0.3172 - accuracy: 0.8715\n",
      "Epoch 118/500\n",
      "63/63 [==============================] - 0s 1ms/step - loss: 0.3141 - accuracy: 0.8710\n",
      "Epoch 119/500\n",
      "63/63 [==============================] - 0s 979us/step - loss: 0.3140 - accuracy: 0.8715\n",
      "Epoch 120/500\n",
      "63/63 [==============================] - 0s 1ms/step - loss: 0.3194 - accuracy: 0.8689\n",
      "Epoch 121/500\n",
      "63/63 [==============================] - 0s 1ms/step - loss: 0.3176 - accuracy: 0.8692\n",
      "Epoch 122/500\n",
      "63/63 [==============================] - 0s 1ms/step - loss: 0.3160 - accuracy: 0.8711\n",
      "Epoch 123/500\n",
      "63/63 [==============================] - 0s 1ms/step - loss: 0.3164 - accuracy: 0.8708\n",
      "Epoch 124/500\n",
      "63/63 [==============================] - 0s 1ms/step - loss: 0.3159 - accuracy: 0.8674\n",
      "Epoch 125/500\n",
      "63/63 [==============================] - 0s 1ms/step - loss: 0.3139 - accuracy: 0.8709\n",
      "Epoch 126/500\n",
      "63/63 [==============================] - 0s 1ms/step - loss: 0.3148 - accuracy: 0.8691\n",
      "Epoch 127/500\n",
      "63/63 [==============================] - 0s 1ms/step - loss: 0.3165 - accuracy: 0.8692\n",
      "Epoch 128/500\n",
      "63/63 [==============================] - 0s 999us/step - loss: 0.3171 - accuracy: 0.8694\n",
      "Epoch 129/500\n",
      "63/63 [==============================] - 0s 1ms/step - loss: 0.3164 - accuracy: 0.8700\n",
      "Epoch 130/500\n",
      "63/63 [==============================] - 0s 1ms/step - loss: 0.3125 - accuracy: 0.8710\n",
      "Epoch 131/500\n",
      "63/63 [==============================] - 0s 1ms/step - loss: 0.3142 - accuracy: 0.8712\n",
      "Epoch 132/500\n",
      "63/63 [==============================] - 0s 1ms/step - loss: 0.3168 - accuracy: 0.8692\n",
      "Epoch 133/500\n",
      "63/63 [==============================] - 0s 1ms/step - loss: 0.3186 - accuracy: 0.8699\n",
      "Epoch 134/500\n",
      "63/63 [==============================] - 0s 1ms/step - loss: 0.3160 - accuracy: 0.8717\n",
      "Epoch 135/500\n",
      "63/63 [==============================] - 0s 1ms/step - loss: 0.3129 - accuracy: 0.8673\n",
      "Epoch 136/500\n",
      "63/63 [==============================] - 0s 1ms/step - loss: 0.3156 - accuracy: 0.8711\n",
      "Epoch 137/500\n",
      "63/63 [==============================] - 0s 1ms/step - loss: 0.3150 - accuracy: 0.8721\n",
      "Epoch 138/500\n",
      "63/63 [==============================] - 0s 1ms/step - loss: 0.3158 - accuracy: 0.8687\n",
      "Epoch 139/500\n",
      "63/63 [==============================] - 0s 1ms/step - loss: 0.3139 - accuracy: 0.8733\n",
      "Epoch 140/500\n",
      "63/63 [==============================] - 0s 1ms/step - loss: 0.3173 - accuracy: 0.8711\n",
      "Epoch 141/500\n",
      "63/63 [==============================] - 0s 1ms/step - loss: 0.3154 - accuracy: 0.8726\n",
      "Epoch 142/500\n",
      "63/63 [==============================] - 0s 1ms/step - loss: 0.3154 - accuracy: 0.8715\n",
      "Epoch 143/500\n",
      "63/63 [==============================] - 0s 1ms/step - loss: 0.3129 - accuracy: 0.8748\n",
      "Epoch 144/500\n",
      "63/63 [==============================] - 0s 1ms/step - loss: 0.3146 - accuracy: 0.8717\n",
      "Epoch 145/500\n",
      "63/63 [==============================] - 0s 1ms/step - loss: 0.3149 - accuracy: 0.8721\n",
      "Epoch 146/500\n",
      "63/63 [==============================] - 0s 1ms/step - loss: 0.3146 - accuracy: 0.8744\n",
      "Epoch 147/500\n",
      "63/63 [==============================] - 0s 1ms/step - loss: 0.3157 - accuracy: 0.8719\n",
      "Epoch 148/500\n",
      "63/63 [==============================] - 0s 1ms/step - loss: 0.3152 - accuracy: 0.8720\n",
      "Epoch 149/500\n",
      "63/63 [==============================] - 0s 1ms/step - loss: 0.3097 - accuracy: 0.8711\n",
      "Epoch 150/500\n",
      "63/63 [==============================] - 0s 984us/step - loss: 0.3149 - accuracy: 0.8715\n",
      "Epoch 151/500\n",
      "63/63 [==============================] - 0s 1ms/step - loss: 0.3131 - accuracy: 0.8689\n",
      "Epoch 152/500\n",
      "63/63 [==============================] - 0s 1ms/step - loss: 0.3102 - accuracy: 0.8702\n",
      "Epoch 153/500\n",
      "63/63 [==============================] - 0s 1ms/step - loss: 0.3178 - accuracy: 0.8679\n",
      "Epoch 154/500\n",
      "63/63 [==============================] - 0s 993us/step - loss: 0.3105 - accuracy: 0.8744\n",
      "Epoch 155/500\n",
      "63/63 [==============================] - 0s 1ms/step - loss: 0.3141 - accuracy: 0.8699\n",
      "Epoch 156/500\n",
      "63/63 [==============================] - 0s 1ms/step - loss: 0.3107 - accuracy: 0.8740\n",
      "Epoch 157/500\n",
      "63/63 [==============================] - 0s 1ms/step - loss: 0.3104 - accuracy: 0.8730\n",
      "Epoch 158/500\n",
      "63/63 [==============================] - 0s 1ms/step - loss: 0.3125 - accuracy: 0.8708\n",
      "Epoch 159/500\n",
      "63/63 [==============================] - 0s 1ms/step - loss: 0.3140 - accuracy: 0.8720\n",
      "Epoch 160/500\n",
      "63/63 [==============================] - 0s 1ms/step - loss: 0.3171 - accuracy: 0.8675\n",
      "Epoch 161/500\n",
      "63/63 [==============================] - 0s 1ms/step - loss: 0.3116 - accuracy: 0.8727\n",
      "Epoch 162/500\n",
      "63/63 [==============================] - 0s 1ms/step - loss: 0.3126 - accuracy: 0.8701\n",
      "Epoch 163/500\n"
     ]
    },
    {
     "name": "stdout",
     "output_type": "stream",
     "text": [
      "63/63 [==============================] - 0s 1ms/step - loss: 0.3129 - accuracy: 0.8723\n",
      "Epoch 164/500\n",
      "63/63 [==============================] - 0s 1ms/step - loss: 0.3152 - accuracy: 0.8710\n",
      "Epoch 165/500\n",
      "63/63 [==============================] - 0s 1ms/step - loss: 0.3126 - accuracy: 0.8726\n",
      "Epoch 166/500\n",
      "63/63 [==============================] - 0s 1ms/step - loss: 0.3144 - accuracy: 0.8702\n",
      "Epoch 167/500\n",
      "63/63 [==============================] - 0s 1ms/step - loss: 0.3139 - accuracy: 0.8696\n",
      "Epoch 168/500\n",
      "63/63 [==============================] - 0s 1ms/step - loss: 0.3148 - accuracy: 0.8702\n",
      "Epoch 169/500\n",
      "63/63 [==============================] - 0s 1ms/step - loss: 0.3102 - accuracy: 0.8730\n",
      "Epoch 170/500\n",
      "63/63 [==============================] - 0s 1ms/step - loss: 0.3122 - accuracy: 0.8745\n",
      "Epoch 171/500\n",
      "63/63 [==============================] - 0s 1ms/step - loss: 0.3096 - accuracy: 0.8733\n",
      "Epoch 172/500\n",
      "63/63 [==============================] - 0s 1ms/step - loss: 0.3148 - accuracy: 0.8704\n",
      "Epoch 173/500\n",
      "63/63 [==============================] - 0s 1ms/step - loss: 0.3099 - accuracy: 0.8731\n",
      "Epoch 174/500\n",
      "63/63 [==============================] - 0s 1ms/step - loss: 0.3095 - accuracy: 0.8730\n",
      "Epoch 175/500\n",
      "63/63 [==============================] - 0s 1ms/step - loss: 0.3115 - accuracy: 0.8720\n",
      "Epoch 176/500\n",
      "63/63 [==============================] - 0s 1ms/step - loss: 0.3122 - accuracy: 0.8741\n",
      "Epoch 177/500\n",
      "63/63 [==============================] - 0s 996us/step - loss: 0.3121 - accuracy: 0.8716\n",
      "Epoch 178/500\n",
      "63/63 [==============================] - 0s 1ms/step - loss: 0.3086 - accuracy: 0.8740\n",
      "Epoch 179/500\n",
      "63/63 [==============================] - 0s 1ms/step - loss: 0.3113 - accuracy: 0.8719\n",
      "Epoch 180/500\n",
      "63/63 [==============================] - 0s 1ms/step - loss: 0.3114 - accuracy: 0.8725\n",
      "Epoch 181/500\n",
      "63/63 [==============================] - 0s 1ms/step - loss: 0.3110 - accuracy: 0.8716\n",
      "Epoch 182/500\n",
      "63/63 [==============================] - 0s 1ms/step - loss: 0.3102 - accuracy: 0.8710\n",
      "Epoch 183/500\n",
      "63/63 [==============================] - 0s 1ms/step - loss: 0.3113 - accuracy: 0.8710\n",
      "Epoch 184/500\n",
      "63/63 [==============================] - 0s 1ms/step - loss: 0.3097 - accuracy: 0.8704\n",
      "Epoch 185/500\n",
      "63/63 [==============================] - 0s 1ms/step - loss: 0.3103 - accuracy: 0.8717\n",
      "Epoch 186/500\n",
      "63/63 [==============================] - 0s 1ms/step - loss: 0.3142 - accuracy: 0.8704\n",
      "Epoch 187/500\n",
      "63/63 [==============================] - 0s 1ms/step - loss: 0.3132 - accuracy: 0.8740\n",
      "Epoch 188/500\n",
      "63/63 [==============================] - 0s 1ms/step - loss: 0.3094 - accuracy: 0.8720\n",
      "Epoch 189/500\n",
      "63/63 [==============================] - 0s 1ms/step - loss: 0.3095 - accuracy: 0.8727\n",
      "Epoch 190/500\n",
      "63/63 [==============================] - 0s 1ms/step - loss: 0.3106 - accuracy: 0.8711\n",
      "Epoch 191/500\n",
      "63/63 [==============================] - 0s 1ms/step - loss: 0.3100 - accuracy: 0.8726\n",
      "Epoch 192/500\n",
      "63/63 [==============================] - 0s 978us/step - loss: 0.3101 - accuracy: 0.8724\n",
      "Epoch 193/500\n",
      "63/63 [==============================] - 0s 1ms/step - loss: 0.3098 - accuracy: 0.8702\n",
      "Epoch 194/500\n",
      "63/63 [==============================] - 0s 1ms/step - loss: 0.3081 - accuracy: 0.8723\n",
      "Epoch 195/500\n",
      "63/63 [==============================] - 0s 1ms/step - loss: 0.3079 - accuracy: 0.8737\n",
      "Epoch 196/500\n",
      "63/63 [==============================] - 0s 1ms/step - loss: 0.3079 - accuracy: 0.8758\n",
      "Epoch 197/500\n",
      "63/63 [==============================] - 0s 1ms/step - loss: 0.3087 - accuracy: 0.8725\n",
      "Epoch 198/500\n",
      "63/63 [==============================] - 0s 1ms/step - loss: 0.3082 - accuracy: 0.8744\n",
      "Epoch 199/500\n",
      "63/63 [==============================] - 0s 1ms/step - loss: 0.3080 - accuracy: 0.8742\n",
      "Epoch 200/500\n",
      "63/63 [==============================] - 0s 1ms/step - loss: 0.3122 - accuracy: 0.8710\n",
      "Epoch 201/500\n",
      "63/63 [==============================] - 0s 1ms/step - loss: 0.3091 - accuracy: 0.8754\n",
      "Epoch 202/500\n",
      "63/63 [==============================] - 0s 1ms/step - loss: 0.3108 - accuracy: 0.8734\n",
      "Epoch 203/500\n",
      "63/63 [==============================] - 0s 1ms/step - loss: 0.3100 - accuracy: 0.8709\n",
      "Epoch 204/500\n",
      "63/63 [==============================] - 0s 959us/step - loss: 0.3093 - accuracy: 0.8736\n",
      "Epoch 205/500\n",
      "63/63 [==============================] - 0s 1ms/step - loss: 0.3108 - accuracy: 0.8736\n",
      "Epoch 206/500\n",
      "63/63 [==============================] - 0s 1ms/step - loss: 0.3109 - accuracy: 0.8712\n",
      "Epoch 207/500\n",
      "63/63 [==============================] - 0s 1ms/step - loss: 0.3078 - accuracy: 0.8745\n",
      "Epoch 208/500\n",
      "63/63 [==============================] - 0s 1ms/step - loss: 0.3069 - accuracy: 0.8748\n",
      "Epoch 209/500\n",
      "63/63 [==============================] - 0s 1ms/step - loss: 0.3116 - accuracy: 0.8699\n",
      "Epoch 210/500\n",
      "63/63 [==============================] - 0s 1ms/step - loss: 0.3063 - accuracy: 0.8741\n",
      "Epoch 211/500\n",
      "63/63 [==============================] - 0s 1ms/step - loss: 0.3088 - accuracy: 0.8730\n",
      "Epoch 212/500\n",
      "63/63 [==============================] - 0s 1ms/step - loss: 0.3073 - accuracy: 0.8720\n",
      "Epoch 213/500\n",
      "63/63 [==============================] - 0s 1ms/step - loss: 0.3093 - accuracy: 0.8736\n",
      "Epoch 214/500\n",
      "63/63 [==============================] - 0s 1ms/step - loss: 0.3079 - accuracy: 0.8742\n",
      "Epoch 215/500\n",
      "63/63 [==============================] - 0s 1ms/step - loss: 0.3063 - accuracy: 0.8758\n",
      "Epoch 216/500\n",
      "63/63 [==============================] - 0s 1ms/step - loss: 0.3088 - accuracy: 0.8720\n",
      "Epoch 217/500\n",
      "63/63 [==============================] - 0s 1ms/step - loss: 0.3040 - accuracy: 0.8749\n",
      "Epoch 218/500\n",
      "63/63 [==============================] - 0s 1ms/step - loss: 0.3084 - accuracy: 0.8709\n",
      "Epoch 219/500\n",
      "63/63 [==============================] - 0s 975us/step - loss: 0.3052 - accuracy: 0.8742\n",
      "Epoch 220/500\n",
      "63/63 [==============================] - 0s 967us/step - loss: 0.3085 - accuracy: 0.8724\n",
      "Epoch 221/500\n",
      "63/63 [==============================] - 0s 1ms/step - loss: 0.3073 - accuracy: 0.8774\n",
      "Epoch 222/500\n",
      "63/63 [==============================] - 0s 1ms/step - loss: 0.3093 - accuracy: 0.8740\n",
      "Epoch 223/500\n",
      "63/63 [==============================] - 0s 1ms/step - loss: 0.3082 - accuracy: 0.8737\n",
      "Epoch 224/500\n",
      "63/63 [==============================] - 0s 1ms/step - loss: 0.3071 - accuracy: 0.8717\n",
      "Epoch 225/500\n",
      "63/63 [==============================] - 0s 1ms/step - loss: 0.3071 - accuracy: 0.8734\n",
      "Epoch 226/500\n",
      "63/63 [==============================] - 0s 1ms/step - loss: 0.3093 - accuracy: 0.8758\n",
      "Epoch 227/500\n",
      "63/63 [==============================] - 0s 1ms/step - loss: 0.3067 - accuracy: 0.8765\n",
      "Epoch 228/500\n",
      "63/63 [==============================] - 0s 1ms/step - loss: 0.3071 - accuracy: 0.8742\n",
      "Epoch 229/500\n",
      "63/63 [==============================] - 0s 1ms/step - loss: 0.3060 - accuracy: 0.8759\n",
      "Epoch 230/500\n",
      "63/63 [==============================] - 0s 1ms/step - loss: 0.3074 - accuracy: 0.8750\n",
      "Epoch 231/500\n",
      "63/63 [==============================] - 0s 1ms/step - loss: 0.3044 - accuracy: 0.8739\n",
      "Epoch 232/500\n",
      "63/63 [==============================] - 0s 989us/step - loss: 0.3069 - accuracy: 0.8708\n",
      "Epoch 233/500\n",
      "63/63 [==============================] - 0s 1ms/step - loss: 0.3057 - accuracy: 0.8740\n",
      "Epoch 234/500\n",
      "63/63 [==============================] - 0s 1ms/step - loss: 0.3047 - accuracy: 0.8719\n",
      "Epoch 235/500\n",
      "63/63 [==============================] - 0s 986us/step - loss: 0.3073 - accuracy: 0.8741\n",
      "Epoch 236/500\n",
      "63/63 [==============================] - 0s 1ms/step - loss: 0.3067 - accuracy: 0.8711\n",
      "Epoch 237/500\n",
      "63/63 [==============================] - 0s 1ms/step - loss: 0.3073 - accuracy: 0.8717\n",
      "Epoch 238/500\n",
      "63/63 [==============================] - 0s 1ms/step - loss: 0.3088 - accuracy: 0.8714\n",
      "Epoch 239/500\n",
      "63/63 [==============================] - 0s 1ms/step - loss: 0.3069 - accuracy: 0.8740\n",
      "Epoch 240/500\n",
      "63/63 [==============================] - 0s 948us/step - loss: 0.3083 - accuracy: 0.8733\n",
      "Epoch 241/500\n",
      "63/63 [==============================] - 0s 1ms/step - loss: 0.3046 - accuracy: 0.8760\n",
      "Epoch 242/500\n",
      "63/63 [==============================] - 0s 1ms/step - loss: 0.3072 - accuracy: 0.8737\n",
      "Epoch 243/500\n",
      "63/63 [==============================] - 0s 1ms/step - loss: 0.3075 - accuracy: 0.8726\n",
      "Epoch 244/500\n"
     ]
    },
    {
     "name": "stdout",
     "output_type": "stream",
     "text": [
      "63/63 [==============================] - 0s 1ms/step - loss: 0.3087 - accuracy: 0.8745\n",
      "Epoch 245/500\n",
      "63/63 [==============================] - 0s 1ms/step - loss: 0.3056 - accuracy: 0.8739\n",
      "Epoch 246/500\n",
      "63/63 [==============================] - 0s 1ms/step - loss: 0.3038 - accuracy: 0.8754\n",
      "Epoch 247/500\n",
      "63/63 [==============================] - 0s 1ms/step - loss: 0.3063 - accuracy: 0.8755\n",
      "Epoch 248/500\n",
      "63/63 [==============================] - 0s 1ms/step - loss: 0.3012 - accuracy: 0.8739\n",
      "Epoch 249/500\n",
      "63/63 [==============================] - 0s 1ms/step - loss: 0.3057 - accuracy: 0.8742\n",
      "Epoch 250/500\n",
      "63/63 [==============================] - 0s 1ms/step - loss: 0.3048 - accuracy: 0.8724\n",
      "Epoch 251/500\n",
      "63/63 [==============================] - 0s 1ms/step - loss: 0.3065 - accuracy: 0.8748\n",
      "Epoch 252/500\n",
      "63/63 [==============================] - 0s 1ms/step - loss: 0.3059 - accuracy: 0.8744\n",
      "Epoch 253/500\n",
      "63/63 [==============================] - 0s 1ms/step - loss: 0.3093 - accuracy: 0.8725\n",
      "Epoch 254/500\n",
      "63/63 [==============================] - 0s 1ms/step - loss: 0.3064 - accuracy: 0.8716\n",
      "Epoch 255/500\n",
      "63/63 [==============================] - 0s 1ms/step - loss: 0.3045 - accuracy: 0.8764\n",
      "Epoch 256/500\n",
      "63/63 [==============================] - 0s 1ms/step - loss: 0.3044 - accuracy: 0.8730\n",
      "Epoch 257/500\n",
      "63/63 [==============================] - 0s 972us/step - loss: 0.3013 - accuracy: 0.8760\n",
      "Epoch 258/500\n",
      "63/63 [==============================] - 0s 1ms/step - loss: 0.3068 - accuracy: 0.8744\n",
      "Epoch 259/500\n",
      "63/63 [==============================] - 0s 1ms/step - loss: 0.3069 - accuracy: 0.8734\n",
      "Epoch 260/500\n",
      "63/63 [==============================] - 0s 1ms/step - loss: 0.3042 - accuracy: 0.8752\n",
      "Epoch 261/500\n",
      "63/63 [==============================] - 0s 1ms/step - loss: 0.3052 - accuracy: 0.8765\n",
      "Epoch 262/500\n",
      "63/63 [==============================] - 0s 1ms/step - loss: 0.3049 - accuracy: 0.8746\n",
      "Epoch 263/500\n",
      "63/63 [==============================] - 0s 1ms/step - loss: 0.3046 - accuracy: 0.8725\n",
      "Epoch 264/500\n",
      "63/63 [==============================] - 0s 1ms/step - loss: 0.3072 - accuracy: 0.8750\n",
      "Epoch 265/500\n",
      "63/63 [==============================] - 0s 1ms/step - loss: 0.3055 - accuracy: 0.8730\n",
      "Epoch 266/500\n",
      "63/63 [==============================] - 0s 1ms/step - loss: 0.3004 - accuracy: 0.8749\n",
      "Epoch 267/500\n",
      "63/63 [==============================] - 0s 1ms/step - loss: 0.3062 - accuracy: 0.8741\n",
      "Epoch 268/500\n",
      "63/63 [==============================] - 0s 1ms/step - loss: 0.3053 - accuracy: 0.8736\n",
      "Epoch 269/500\n",
      "63/63 [==============================] - 0s 1ms/step - loss: 0.3074 - accuracy: 0.8726\n",
      "Epoch 270/500\n",
      "63/63 [==============================] - 0s 1ms/step - loss: 0.3011 - accuracy: 0.8751\n",
      "Epoch 271/500\n",
      "63/63 [==============================] - 0s 959us/step - loss: 0.3086 - accuracy: 0.8705\n",
      "Epoch 272/500\n",
      "63/63 [==============================] - 0s 1ms/step - loss: 0.3042 - accuracy: 0.8759\n",
      "Epoch 273/500\n",
      "63/63 [==============================] - 0s 1ms/step - loss: 0.3038 - accuracy: 0.8723\n",
      "Epoch 274/500\n",
      "63/63 [==============================] - 0s 1ms/step - loss: 0.3033 - accuracy: 0.8729\n",
      "Epoch 275/500\n",
      "63/63 [==============================] - 0s 1ms/step - loss: 0.3029 - accuracy: 0.8756\n",
      "Epoch 276/500\n",
      "63/63 [==============================] - 0s 1ms/step - loss: 0.3040 - accuracy: 0.8730\n",
      "Epoch 277/500\n",
      "63/63 [==============================] - 0s 1ms/step - loss: 0.3060 - accuracy: 0.8752\n",
      "Epoch 278/500\n",
      "63/63 [==============================] - 0s 1ms/step - loss: 0.3038 - accuracy: 0.8755\n",
      "Epoch 279/500\n",
      "63/63 [==============================] - 0s 1ms/step - loss: 0.3015 - accuracy: 0.8736\n",
      "Epoch 280/500\n",
      "63/63 [==============================] - 0s 1ms/step - loss: 0.3048 - accuracy: 0.8725\n",
      "Epoch 281/500\n",
      "63/63 [==============================] - 0s 1ms/step - loss: 0.3050 - accuracy: 0.8725\n",
      "Epoch 282/500\n",
      "63/63 [==============================] - 0s 1ms/step - loss: 0.3001 - accuracy: 0.8775\n",
      "Epoch 283/500\n",
      "63/63 [==============================] - 0s 1ms/step - loss: 0.3048 - accuracy: 0.8739\n",
      "Epoch 284/500\n",
      "63/63 [==============================] - 0s 1ms/step - loss: 0.3013 - accuracy: 0.8764\n",
      "Epoch 285/500\n",
      "63/63 [==============================] - 0s 1ms/step - loss: 0.3035 - accuracy: 0.8740\n",
      "Epoch 286/500\n",
      "63/63 [==============================] - 0s 1ms/step - loss: 0.3076 - accuracy: 0.8746\n",
      "Epoch 287/500\n",
      "63/63 [==============================] - 0s 1ms/step - loss: 0.3071 - accuracy: 0.8760\n",
      "Epoch 288/500\n",
      "63/63 [==============================] - 0s 1ms/step - loss: 0.3042 - accuracy: 0.8739\n",
      "Epoch 289/500\n",
      "63/63 [==============================] - 0s 1ms/step - loss: 0.3057 - accuracy: 0.8734\n",
      "Epoch 290/500\n",
      "63/63 [==============================] - 0s 998us/step - loss: 0.3062 - accuracy: 0.8754\n",
      "Epoch 291/500\n",
      "63/63 [==============================] - 0s 1ms/step - loss: 0.3039 - accuracy: 0.8742\n",
      "Epoch 292/500\n",
      "63/63 [==============================] - 0s 1ms/step - loss: 0.3022 - accuracy: 0.8766\n",
      "Epoch 293/500\n",
      "63/63 [==============================] - 0s 1ms/step - loss: 0.3014 - accuracy: 0.8755\n",
      "Epoch 294/500\n",
      "63/63 [==============================] - 0s 1ms/step - loss: 0.3037 - accuracy: 0.8749\n",
      "Epoch 295/500\n",
      "63/63 [==============================] - 0s 1ms/step - loss: 0.3012 - accuracy: 0.8740\n",
      "Epoch 296/500\n",
      "63/63 [==============================] - 0s 1ms/step - loss: 0.3001 - accuracy: 0.8748\n",
      "Epoch 297/500\n",
      "63/63 [==============================] - 0s 1ms/step - loss: 0.3028 - accuracy: 0.8776\n",
      "Epoch 298/500\n",
      "63/63 [==============================] - 0s 1ms/step - loss: 0.2988 - accuracy: 0.8765\n",
      "Epoch 299/500\n",
      "63/63 [==============================] - 0s 1ms/step - loss: 0.3029 - accuracy: 0.8758\n",
      "Epoch 300/500\n",
      "63/63 [==============================] - 0s 1000us/step - loss: 0.3039 - accuracy: 0.8750\n",
      "Epoch 301/500\n",
      "63/63 [==============================] - 0s 1ms/step - loss: 0.3016 - accuracy: 0.8740\n",
      "Epoch 302/500\n",
      "63/63 [==============================] - 0s 1ms/step - loss: 0.2992 - accuracy: 0.8748\n",
      "Epoch 303/500\n",
      "63/63 [==============================] - 0s 1ms/step - loss: 0.3044 - accuracy: 0.8756\n",
      "Epoch 304/500\n",
      "63/63 [==============================] - 0s 1ms/step - loss: 0.3031 - accuracy: 0.8776\n",
      "Epoch 305/500\n",
      "63/63 [==============================] - 0s 1ms/step - loss: 0.3040 - accuracy: 0.8754\n",
      "Epoch 306/500\n",
      "63/63 [==============================] - 0s 1ms/step - loss: 0.2990 - accuracy: 0.8784\n",
      "Epoch 307/500\n",
      "63/63 [==============================] - 0s 1ms/step - loss: 0.3057 - accuracy: 0.8698\n",
      "Epoch 308/500\n",
      "63/63 [==============================] - 0s 1ms/step - loss: 0.3024 - accuracy: 0.8742\n",
      "Epoch 309/500\n",
      "63/63 [==============================] - 0s 1ms/step - loss: 0.3000 - accuracy: 0.8766\n",
      "Epoch 310/500\n",
      "63/63 [==============================] - 0s 1ms/step - loss: 0.3043 - accuracy: 0.8749\n",
      "Epoch 311/500\n",
      "63/63 [==============================] - 0s 1ms/step - loss: 0.3008 - accuracy: 0.8784\n",
      "Epoch 312/500\n",
      "63/63 [==============================] - 0s 1ms/step - loss: 0.3026 - accuracy: 0.8771\n",
      "Epoch 313/500\n",
      "63/63 [==============================] - 0s 1ms/step - loss: 0.2995 - accuracy: 0.8764\n",
      "Epoch 314/500\n",
      "63/63 [==============================] - 0s 1ms/step - loss: 0.3002 - accuracy: 0.8752\n",
      "Epoch 315/500\n",
      "63/63 [==============================] - 0s 1ms/step - loss: 0.3041 - accuracy: 0.8756\n",
      "Epoch 316/500\n",
      "63/63 [==============================] - 0s 1ms/step - loss: 0.3014 - accuracy: 0.8733\n",
      "Epoch 317/500\n",
      "63/63 [==============================] - 0s 1ms/step - loss: 0.3030 - accuracy: 0.8779\n",
      "Epoch 318/500\n",
      "63/63 [==============================] - 0s 1ms/step - loss: 0.3028 - accuracy: 0.8741\n",
      "Epoch 319/500\n",
      "63/63 [==============================] - 0s 871us/step - loss: 0.2997 - accuracy: 0.8774\n",
      "Epoch 320/500\n",
      "63/63 [==============================] - 0s 1ms/step - loss: 0.3007 - accuracy: 0.8777\n",
      "Epoch 321/500\n",
      "63/63 [==============================] - 0s 1ms/step - loss: 0.3023 - accuracy: 0.8726\n",
      "Epoch 322/500\n",
      "63/63 [==============================] - 0s 1ms/step - loss: 0.3012 - accuracy: 0.8755\n",
      "Epoch 323/500\n",
      "63/63 [==============================] - 0s 1ms/step - loss: 0.3043 - accuracy: 0.8733\n",
      "Epoch 324/500\n",
      "63/63 [==============================] - 0s 987us/step - loss: 0.3006 - accuracy: 0.8759\n",
      "Epoch 325/500\n"
     ]
    },
    {
     "name": "stdout",
     "output_type": "stream",
     "text": [
      "63/63 [==============================] - 0s 1ms/step - loss: 0.3016 - accuracy: 0.8770\n",
      "Epoch 326/500\n",
      "63/63 [==============================] - 0s 1ms/step - loss: 0.2991 - accuracy: 0.8764\n",
      "Epoch 327/500\n",
      "63/63 [==============================] - 0s 1ms/step - loss: 0.2995 - accuracy: 0.8735\n",
      "Epoch 328/500\n",
      "63/63 [==============================] - 0s 1ms/step - loss: 0.3013 - accuracy: 0.8730\n",
      "Epoch 329/500\n",
      "63/63 [==============================] - 0s 1ms/step - loss: 0.2997 - accuracy: 0.8774\n",
      "Epoch 330/500\n",
      "63/63 [==============================] - 0s 1ms/step - loss: 0.3009 - accuracy: 0.8765\n",
      "Epoch 331/500\n",
      "63/63 [==============================] - 0s 1ms/step - loss: 0.3041 - accuracy: 0.8756\n",
      "Epoch 332/500\n",
      "63/63 [==============================] - 0s 1ms/step - loss: 0.2990 - accuracy: 0.8739\n",
      "Epoch 333/500\n",
      "63/63 [==============================] - 0s 1ms/step - loss: 0.3011 - accuracy: 0.8756\n",
      "Epoch 334/500\n",
      "63/63 [==============================] - 0s 1ms/step - loss: 0.3023 - accuracy: 0.8745\n",
      "Epoch 335/500\n",
      "63/63 [==============================] - 0s 1ms/step - loss: 0.3006 - accuracy: 0.8763\n",
      "Epoch 336/500\n",
      "63/63 [==============================] - 0s 1ms/step - loss: 0.3012 - accuracy: 0.8773\n",
      "Epoch 337/500\n",
      "63/63 [==============================] - 0s 1ms/step - loss: 0.2985 - accuracy: 0.8746\n",
      "Epoch 338/500\n",
      "63/63 [==============================] - 0s 1ms/step - loss: 0.2975 - accuracy: 0.8774\n",
      "Epoch 339/500\n",
      "63/63 [==============================] - 0s 1ms/step - loss: 0.3014 - accuracy: 0.8756\n",
      "Epoch 340/500\n",
      "63/63 [==============================] - 0s 1ms/step - loss: 0.3016 - accuracy: 0.8740\n",
      "Epoch 341/500\n",
      "63/63 [==============================] - 0s 1ms/step - loss: 0.2970 - accuracy: 0.8742\n",
      "Epoch 342/500\n",
      "63/63 [==============================] - 0s 1ms/step - loss: 0.3002 - accuracy: 0.8769\n",
      "Epoch 343/500\n",
      "63/63 [==============================] - 0s 1ms/step - loss: 0.3009 - accuracy: 0.8739\n",
      "Epoch 344/500\n",
      "63/63 [==============================] - 0s 1ms/step - loss: 0.2998 - accuracy: 0.8766\n",
      "Epoch 345/500\n",
      "63/63 [==============================] - 0s 1ms/step - loss: 0.3012 - accuracy: 0.8754\n",
      "Epoch 346/500\n",
      "63/63 [==============================] - 0s 1ms/step - loss: 0.3016 - accuracy: 0.8740\n",
      "Epoch 347/500\n",
      "63/63 [==============================] - 0s 1ms/step - loss: 0.3001 - accuracy: 0.8754\n",
      "Epoch 348/500\n",
      "63/63 [==============================] - 0s 1ms/step - loss: 0.3012 - accuracy: 0.8744\n",
      "Epoch 349/500\n",
      "63/63 [==============================] - 0s 1ms/step - loss: 0.2982 - accuracy: 0.8761\n",
      "Epoch 350/500\n",
      "63/63 [==============================] - 0s 1ms/step - loss: 0.3017 - accuracy: 0.8755\n",
      "Epoch 351/500\n",
      "63/63 [==============================] - 0s 1ms/step - loss: 0.3015 - accuracy: 0.8726\n",
      "Epoch 352/500\n",
      "63/63 [==============================] - 0s 1ms/step - loss: 0.3023 - accuracy: 0.8765\n",
      "Epoch 353/500\n",
      "63/63 [==============================] - 0s 1ms/step - loss: 0.2957 - accuracy: 0.8777\n",
      "Epoch 354/500\n",
      "63/63 [==============================] - 0s 1ms/step - loss: 0.3000 - accuracy: 0.8755\n",
      "Epoch 355/500\n",
      "63/63 [==============================] - 0s 1ms/step - loss: 0.3016 - accuracy: 0.8724\n",
      "Epoch 356/500\n",
      "63/63 [==============================] - 0s 985us/step - loss: 0.3030 - accuracy: 0.8758\n",
      "Epoch 357/500\n",
      "63/63 [==============================] - 0s 1ms/step - loss: 0.2991 - accuracy: 0.8751\n",
      "Epoch 358/500\n",
      "63/63 [==============================] - 0s 1ms/step - loss: 0.2969 - accuracy: 0.8779\n",
      "Epoch 359/500\n",
      "63/63 [==============================] - 0s 1ms/step - loss: 0.3014 - accuracy: 0.8751\n",
      "Epoch 360/500\n",
      "63/63 [==============================] - 0s 1ms/step - loss: 0.2972 - accuracy: 0.8760\n",
      "Epoch 361/500\n",
      "63/63 [==============================] - 0s 1ms/step - loss: 0.2990 - accuracy: 0.8749\n",
      "Epoch 362/500\n",
      "63/63 [==============================] - 0s 1ms/step - loss: 0.2987 - accuracy: 0.8758\n",
      "Epoch 363/500\n",
      "63/63 [==============================] - 0s 1ms/step - loss: 0.2997 - accuracy: 0.8758\n",
      "Epoch 364/500\n",
      "63/63 [==============================] - 0s 1ms/step - loss: 0.2992 - accuracy: 0.8749\n",
      "Epoch 365/500\n",
      "63/63 [==============================] - 0s 1ms/step - loss: 0.2980 - accuracy: 0.8764\n",
      "Epoch 366/500\n",
      "63/63 [==============================] - 0s 1ms/step - loss: 0.2997 - accuracy: 0.8754\n",
      "Epoch 367/500\n",
      "63/63 [==============================] - 0s 1ms/step - loss: 0.2968 - accuracy: 0.8750\n",
      "Epoch 368/500\n",
      "63/63 [==============================] - 0s 978us/step - loss: 0.3004 - accuracy: 0.8749\n",
      "Epoch 369/500\n",
      "63/63 [==============================] - 0s 1ms/step - loss: 0.2986 - accuracy: 0.8744\n",
      "Epoch 370/500\n",
      "63/63 [==============================] - 0s 982us/step - loss: 0.2994 - accuracy: 0.8752\n",
      "Epoch 371/500\n",
      "63/63 [==============================] - 0s 1ms/step - loss: 0.2995 - accuracy: 0.8763\n",
      "Epoch 372/500\n",
      "63/63 [==============================] - 0s 1ms/step - loss: 0.2955 - accuracy: 0.8775\n",
      "Epoch 373/500\n",
      "63/63 [==============================] - 0s 1ms/step - loss: 0.3020 - accuracy: 0.8740\n",
      "Epoch 374/500\n",
      "63/63 [==============================] - 0s 1ms/step - loss: 0.2953 - accuracy: 0.8767\n",
      "Epoch 375/500\n",
      "63/63 [==============================] - 0s 1ms/step - loss: 0.3038 - accuracy: 0.8727\n",
      "Epoch 376/500\n",
      "63/63 [==============================] - 0s 1ms/step - loss: 0.2993 - accuracy: 0.8770\n",
      "Epoch 377/500\n",
      "63/63 [==============================] - 0s 1ms/step - loss: 0.2973 - accuracy: 0.8774\n",
      "Epoch 378/500\n",
      "63/63 [==============================] - 0s 1ms/step - loss: 0.3017 - accuracy: 0.8754\n",
      "Epoch 379/500\n",
      "63/63 [==============================] - 0s 991us/step - loss: 0.2986 - accuracy: 0.8776\n",
      "Epoch 380/500\n",
      "63/63 [==============================] - 0s 1ms/step - loss: 0.3019 - accuracy: 0.8726\n",
      "Epoch 381/500\n",
      "63/63 [==============================] - 0s 993us/step - loss: 0.2958 - accuracy: 0.8780\n",
      "Epoch 382/500\n",
      "63/63 [==============================] - 0s 1ms/step - loss: 0.2974 - accuracy: 0.8761\n",
      "Epoch 383/500\n",
      "63/63 [==============================] - 0s 1ms/step - loss: 0.2971 - accuracy: 0.8760\n",
      "Epoch 384/500\n",
      "63/63 [==============================] - 0s 1ms/step - loss: 0.2964 - accuracy: 0.8767\n",
      "Epoch 385/500\n",
      "63/63 [==============================] - 0s 1ms/step - loss: 0.2956 - accuracy: 0.8765\n",
      "Epoch 386/500\n",
      "63/63 [==============================] - 0s 1ms/step - loss: 0.2988 - accuracy: 0.8746\n",
      "Epoch 387/500\n",
      "63/63 [==============================] - 0s 1ms/step - loss: 0.2986 - accuracy: 0.8770\n",
      "Epoch 388/500\n",
      "63/63 [==============================] - 0s 1ms/step - loss: 0.2982 - accuracy: 0.8759\n",
      "Epoch 389/500\n",
      "63/63 [==============================] - 0s 1ms/step - loss: 0.2961 - accuracy: 0.8770\n",
      "Epoch 390/500\n",
      "63/63 [==============================] - 0s 1ms/step - loss: 0.2962 - accuracy: 0.8788\n",
      "Epoch 391/500\n",
      "63/63 [==============================] - 0s 1ms/step - loss: 0.3002 - accuracy: 0.8761\n",
      "Epoch 392/500\n",
      "63/63 [==============================] - 0s 1ms/step - loss: 0.3014 - accuracy: 0.8734\n",
      "Epoch 393/500\n",
      "63/63 [==============================] - 0s 1ms/step - loss: 0.2972 - accuracy: 0.8792\n",
      "Epoch 394/500\n",
      "63/63 [==============================] - 0s 1ms/step - loss: 0.2969 - accuracy: 0.8777\n",
      "Epoch 395/500\n",
      "63/63 [==============================] - 0s 1ms/step - loss: 0.2996 - accuracy: 0.8750\n",
      "Epoch 396/500\n",
      "63/63 [==============================] - 0s 1ms/step - loss: 0.2962 - accuracy: 0.8759\n",
      "Epoch 397/500\n",
      "63/63 [==============================] - 0s 1ms/step - loss: 0.3010 - accuracy: 0.8755\n",
      "Epoch 398/500\n",
      "63/63 [==============================] - 0s 1ms/step - loss: 0.3013 - accuracy: 0.8765\n",
      "Epoch 399/500\n",
      "63/63 [==============================] - 0s 1ms/step - loss: 0.2981 - accuracy: 0.8758\n",
      "Epoch 400/500\n",
      "63/63 [==============================] - 0s 1ms/step - loss: 0.2967 - accuracy: 0.8756\n",
      "Epoch 401/500\n",
      "63/63 [==============================] - 0s 1ms/step - loss: 0.2983 - accuracy: 0.8758\n",
      "Epoch 402/500\n",
      "63/63 [==============================] - 0s 1ms/step - loss: 0.2992 - accuracy: 0.8746\n",
      "Epoch 403/500\n",
      "63/63 [==============================] - 0s 1ms/step - loss: 0.2985 - accuracy: 0.8755\n",
      "Epoch 404/500\n",
      "63/63 [==============================] - 0s 1ms/step - loss: 0.3003 - accuracy: 0.8724\n",
      "Epoch 405/500\n",
      "63/63 [==============================] - 0s 1ms/step - loss: 0.2959 - accuracy: 0.8761\n",
      "Epoch 406/500\n"
     ]
    },
    {
     "name": "stdout",
     "output_type": "stream",
     "text": [
      "63/63 [==============================] - 0s 1ms/step - loss: 0.2974 - accuracy: 0.8774\n",
      "Epoch 407/500\n",
      "63/63 [==============================] - 0s 1ms/step - loss: 0.2997 - accuracy: 0.8755\n",
      "Epoch 408/500\n",
      "63/63 [==============================] - 0s 1ms/step - loss: 0.2953 - accuracy: 0.8781\n",
      "Epoch 409/500\n",
      "63/63 [==============================] - 0s 1ms/step - loss: 0.3009 - accuracy: 0.8770\n",
      "Epoch 410/500\n",
      "63/63 [==============================] - 0s 1ms/step - loss: 0.2978 - accuracy: 0.8731\n",
      "Epoch 411/500\n",
      "63/63 [==============================] - 0s 1ms/step - loss: 0.2990 - accuracy: 0.8755\n",
      "Epoch 412/500\n",
      "63/63 [==============================] - 0s 1ms/step - loss: 0.2967 - accuracy: 0.8769\n",
      "Epoch 413/500\n",
      "63/63 [==============================] - 0s 1ms/step - loss: 0.2990 - accuracy: 0.8725\n",
      "Epoch 414/500\n",
      "63/63 [==============================] - 0s 1ms/step - loss: 0.3004 - accuracy: 0.8749\n",
      "Epoch 415/500\n",
      "63/63 [==============================] - 0s 1ms/step - loss: 0.3002 - accuracy: 0.8744\n",
      "Epoch 416/500\n",
      "63/63 [==============================] - 0s 1ms/step - loss: 0.2981 - accuracy: 0.8760\n",
      "Epoch 417/500\n",
      "63/63 [==============================] - 0s 1ms/step - loss: 0.2989 - accuracy: 0.8730\n",
      "Epoch 418/500\n",
      "63/63 [==============================] - 0s 1ms/step - loss: 0.2986 - accuracy: 0.8750\n",
      "Epoch 419/500\n",
      "63/63 [==============================] - 0s 1ms/step - loss: 0.2982 - accuracy: 0.8750\n",
      "Epoch 420/500\n",
      "63/63 [==============================] - 0s 1ms/step - loss: 0.2941 - accuracy: 0.8805\n",
      "Epoch 421/500\n",
      "63/63 [==============================] - 0s 1ms/step - loss: 0.2981 - accuracy: 0.8735\n",
      "Epoch 422/500\n",
      "63/63 [==============================] - 0s 1ms/step - loss: 0.2954 - accuracy: 0.8783\n",
      "Epoch 423/500\n",
      "63/63 [==============================] - 0s 1ms/step - loss: 0.2972 - accuracy: 0.8735\n",
      "Epoch 424/500\n",
      "63/63 [==============================] - 0s 1ms/step - loss: 0.2965 - accuracy: 0.8785\n",
      "Epoch 425/500\n",
      "63/63 [==============================] - 0s 1ms/step - loss: 0.2950 - accuracy: 0.8776\n",
      "Epoch 426/500\n",
      "63/63 [==============================] - 0s 1ms/step - loss: 0.2946 - accuracy: 0.8798\n",
      "Epoch 427/500\n",
      "63/63 [==============================] - 0s 1ms/step - loss: 0.2959 - accuracy: 0.8766\n",
      "Epoch 428/500\n",
      "63/63 [==============================] - 0s 1ms/step - loss: 0.2958 - accuracy: 0.8760\n",
      "Epoch 429/500\n",
      "63/63 [==============================] - 0s 1ms/step - loss: 0.2954 - accuracy: 0.8759\n",
      "Epoch 430/500\n",
      "63/63 [==============================] - 0s 1ms/step - loss: 0.2994 - accuracy: 0.8744\n",
      "Epoch 431/500\n",
      "63/63 [==============================] - 0s 1ms/step - loss: 0.2964 - accuracy: 0.8771\n",
      "Epoch 432/500\n",
      "63/63 [==============================] - 0s 1ms/step - loss: 0.3008 - accuracy: 0.8744\n",
      "Epoch 433/500\n",
      "63/63 [==============================] - 0s 1ms/step - loss: 0.2987 - accuracy: 0.8755\n",
      "Epoch 434/500\n",
      "63/63 [==============================] - 0s 1ms/step - loss: 0.2946 - accuracy: 0.8746\n",
      "Epoch 435/500\n",
      "63/63 [==============================] - 0s 1ms/step - loss: 0.2958 - accuracy: 0.8770\n",
      "Epoch 436/500\n",
      "63/63 [==============================] - 0s 1ms/step - loss: 0.2978 - accuracy: 0.8750\n",
      "Epoch 437/500\n",
      "63/63 [==============================] - 0s 1ms/step - loss: 0.2971 - accuracy: 0.8748\n",
      "Epoch 438/500\n",
      "63/63 [==============================] - 0s 1ms/step - loss: 0.2982 - accuracy: 0.8764\n",
      "Epoch 439/500\n",
      "63/63 [==============================] - 0s 1ms/step - loss: 0.2966 - accuracy: 0.8767\n",
      "Epoch 440/500\n",
      "63/63 [==============================] - 0s 1ms/step - loss: 0.2944 - accuracy: 0.8754\n",
      "Epoch 441/500\n",
      "63/63 [==============================] - 0s 1ms/step - loss: 0.2951 - accuracy: 0.8764\n",
      "Epoch 442/500\n",
      "63/63 [==============================] - 0s 1ms/step - loss: 0.2972 - accuracy: 0.8769\n",
      "Epoch 443/500\n",
      "63/63 [==============================] - 0s 1ms/step - loss: 0.2962 - accuracy: 0.8810\n",
      "Epoch 444/500\n",
      "63/63 [==============================] - 0s 1ms/step - loss: 0.2935 - accuracy: 0.8783\n",
      "Epoch 445/500\n",
      "63/63 [==============================] - 0s 1ms/step - loss: 0.2970 - accuracy: 0.8754\n",
      "Epoch 446/500\n",
      "63/63 [==============================] - 0s 998us/step - loss: 0.2949 - accuracy: 0.8760\n",
      "Epoch 447/500\n",
      "63/63 [==============================] - 0s 1ms/step - loss: 0.2956 - accuracy: 0.8776\n",
      "Epoch 448/500\n",
      "63/63 [==============================] - 0s 1ms/step - loss: 0.2939 - accuracy: 0.8781\n",
      "Epoch 449/500\n",
      "63/63 [==============================] - 0s 1ms/step - loss: 0.2940 - accuracy: 0.8788\n",
      "Epoch 450/500\n",
      "63/63 [==============================] - 0s 1ms/step - loss: 0.2984 - accuracy: 0.8766\n",
      "Epoch 451/500\n",
      "63/63 [==============================] - 0s 1ms/step - loss: 0.2986 - accuracy: 0.8758\n",
      "Epoch 452/500\n",
      "63/63 [==============================] - 0s 1ms/step - loss: 0.2922 - accuracy: 0.8786\n",
      "Epoch 453/500\n",
      "63/63 [==============================] - 0s 987us/step - loss: 0.2980 - accuracy: 0.8741\n",
      "Epoch 454/500\n",
      "63/63 [==============================] - 0s 1ms/step - loss: 0.2980 - accuracy: 0.8760\n",
      "Epoch 455/500\n",
      "63/63 [==============================] - 0s 1ms/step - loss: 0.2922 - accuracy: 0.8784\n",
      "Epoch 456/500\n",
      "63/63 [==============================] - 0s 1ms/step - loss: 0.2912 - accuracy: 0.8785\n",
      "Epoch 457/500\n",
      "63/63 [==============================] - 0s 1ms/step - loss: 0.2954 - accuracy: 0.8790\n",
      "Epoch 458/500\n",
      "63/63 [==============================] - 0s 1ms/step - loss: 0.2970 - accuracy: 0.8785\n",
      "Epoch 459/500\n",
      "63/63 [==============================] - 0s 1ms/step - loss: 0.2977 - accuracy: 0.8751\n",
      "Epoch 460/500\n",
      "63/63 [==============================] - 0s 1ms/step - loss: 0.2962 - accuracy: 0.8779\n",
      "Epoch 461/500\n",
      "63/63 [==============================] - 0s 999us/step - loss: 0.2919 - accuracy: 0.8800\n",
      "Epoch 462/500\n",
      "63/63 [==============================] - 0s 1ms/step - loss: 0.2942 - accuracy: 0.8792\n",
      "Epoch 463/500\n",
      "63/63 [==============================] - 0s 1ms/step - loss: 0.2967 - accuracy: 0.8761\n",
      "Epoch 464/500\n",
      "63/63 [==============================] - 0s 1ms/step - loss: 0.2948 - accuracy: 0.8790\n",
      "Epoch 465/500\n",
      "63/63 [==============================] - 0s 994us/step - loss: 0.2987 - accuracy: 0.8774\n",
      "Epoch 466/500\n",
      "63/63 [==============================] - 0s 1ms/step - loss: 0.2931 - accuracy: 0.8760\n",
      "Epoch 467/500\n",
      "63/63 [==============================] - 0s 1ms/step - loss: 0.2961 - accuracy: 0.8789\n",
      "Epoch 468/500\n",
      "63/63 [==============================] - 0s 1ms/step - loss: 0.2916 - accuracy: 0.8790\n",
      "Epoch 469/500\n",
      "63/63 [==============================] - 0s 1ms/step - loss: 0.2922 - accuracy: 0.8816\n",
      "Epoch 470/500\n",
      "63/63 [==============================] - 0s 1ms/step - loss: 0.2950 - accuracy: 0.8781\n",
      "Epoch 471/500\n",
      "63/63 [==============================] - 0s 1ms/step - loss: 0.2959 - accuracy: 0.8763\n",
      "Epoch 472/500\n",
      "63/63 [==============================] - 0s 985us/step - loss: 0.2936 - accuracy: 0.8790\n",
      "Epoch 473/500\n",
      "63/63 [==============================] - 0s 999us/step - loss: 0.2970 - accuracy: 0.8756\n",
      "Epoch 474/500\n",
      "63/63 [==============================] - 0s 1ms/step - loss: 0.2943 - accuracy: 0.8816\n",
      "Epoch 475/500\n",
      "63/63 [==============================] - 0s 1ms/step - loss: 0.2945 - accuracy: 0.8794\n",
      "Epoch 476/500\n",
      "63/63 [==============================] - 0s 1ms/step - loss: 0.2935 - accuracy: 0.8781\n",
      "Epoch 477/500\n",
      "63/63 [==============================] - 0s 1ms/step - loss: 0.2970 - accuracy: 0.8779\n",
      "Epoch 478/500\n",
      "63/63 [==============================] - 0s 1ms/step - loss: 0.2921 - accuracy: 0.8784\n",
      "Epoch 479/500\n",
      "63/63 [==============================] - 0s 1ms/step - loss: 0.2923 - accuracy: 0.8800\n",
      "Epoch 480/500\n",
      "63/63 [==============================] - 0s 1ms/step - loss: 0.2965 - accuracy: 0.8781\n",
      "Epoch 481/500\n",
      "63/63 [==============================] - 0s 1ms/step - loss: 0.2958 - accuracy: 0.8763\n",
      "Epoch 482/500\n",
      "63/63 [==============================] - 0s 1ms/step - loss: 0.2957 - accuracy: 0.8748\n",
      "Epoch 483/500\n",
      "63/63 [==============================] - 0s 1ms/step - loss: 0.2961 - accuracy: 0.8786\n",
      "Epoch 484/500\n",
      "63/63 [==============================] - 0s 1ms/step - loss: 0.2905 - accuracy: 0.8795\n",
      "Epoch 485/500\n",
      "63/63 [==============================] - 0s 1ms/step - loss: 0.2952 - accuracy: 0.8788\n",
      "Epoch 486/500\n",
      "63/63 [==============================] - 0s 1ms/step - loss: 0.2952 - accuracy: 0.8771\n",
      "Epoch 487/500\n"
     ]
    },
    {
     "name": "stdout",
     "output_type": "stream",
     "text": [
      "63/63 [==============================] - 0s 1ms/step - loss: 0.2954 - accuracy: 0.8758\n",
      "Epoch 488/500\n",
      "63/63 [==============================] - 0s 1ms/step - loss: 0.2922 - accuracy: 0.8766\n",
      "Epoch 489/500\n",
      "63/63 [==============================] - 0s 1ms/step - loss: 0.2975 - accuracy: 0.8765\n",
      "Epoch 490/500\n",
      "63/63 [==============================] - 0s 1ms/step - loss: 0.2969 - accuracy: 0.8759\n",
      "Epoch 491/500\n",
      "63/63 [==============================] - 0s 1ms/step - loss: 0.2974 - accuracy: 0.8765\n",
      "Epoch 492/500\n",
      "63/63 [==============================] - 0s 1ms/step - loss: 0.2961 - accuracy: 0.8779\n",
      "Epoch 493/500\n",
      "63/63 [==============================] - 0s 1ms/step - loss: 0.2932 - accuracy: 0.8801\n",
      "Epoch 494/500\n",
      "63/63 [==============================] - 0s 1ms/step - loss: 0.2953 - accuracy: 0.8769\n",
      "Epoch 495/500\n",
      "63/63 [==============================] - 0s 990us/step - loss: 0.2956 - accuracy: 0.8780\n",
      "Epoch 496/500\n",
      "63/63 [==============================] - 0s 1ms/step - loss: 0.2972 - accuracy: 0.8771\n",
      "Epoch 497/500\n",
      "63/63 [==============================] - 0s 1ms/step - loss: 0.2940 - accuracy: 0.8758\n",
      "Epoch 498/500\n",
      "63/63 [==============================] - 0s 1ms/step - loss: 0.2928 - accuracy: 0.8776\n",
      "Epoch 499/500\n",
      "63/63 [==============================] - 0s 1ms/step - loss: 0.2913 - accuracy: 0.8779\n",
      "Epoch 500/500\n",
      "63/63 [==============================] - 0s 1ms/step - loss: 0.2927 - accuracy: 0.8742\n"
     ]
    },
    {
     "data": {
      "text/plain": [
       "<tensorflow.python.keras.callbacks.History at 0x7f0ee467ffd0>"
      ]
     },
     "execution_count": 18,
     "metadata": {},
     "output_type": "execute_result"
    }
   ],
   "source": [
    "ann.fit(X_train, y_train, batch_size = 128, epochs = 500)"
   ]
  },
  {
   "cell_type": "markdown",
   "metadata": {
    "colab_type": "text",
    "id": "tJj5k2MxZga3"
   },
   "source": [
    "## Part 4 - Making the predictions and evaluating the model"
   ]
  },
  {
   "cell_type": "markdown",
   "metadata": {
    "colab_type": "text",
    "id": "84QFoqGYeXHL"
   },
   "source": [
    "### Predicting the result of a single observation"
   ]
  },
  {
   "cell_type": "code",
   "execution_count": 19,
   "metadata": {
    "colab": {
     "base_uri": "https://localhost:8080/",
     "height": 34
    },
    "colab_type": "code",
    "id": "2d8IoCCkeWGL",
    "outputId": "957f3970-e197-4c3b-a150-7f69dc567f5d"
   },
   "outputs": [
    {
     "name": "stdout",
     "output_type": "stream",
     "text": [
      "[[False]]\n"
     ]
    }
   ],
   "source": [
    "print(ann.predict(sc.transform([[1, 0, 0, 600, 1, 40, 3, 60000, 2, 1, 1, 50000]])) > 0.5)"
   ]
  },
  {
   "cell_type": "markdown",
   "metadata": {
    "colab_type": "text",
    "id": "u7yx47jPZt11"
   },
   "source": [
    "### Predicting the Test set results"
   ]
  },
  {
   "cell_type": "code",
   "execution_count": 20,
   "metadata": {
    "colab": {
     "base_uri": "https://localhost:8080/",
     "height": 137
    },
    "colab_type": "code",
    "id": "nIyEeQdRZwgs",
    "outputId": "82330ba8-9bdc-4fd1-d3cf-b6d78ee7c2a3"
   },
   "outputs": [
    {
     "name": "stdout",
     "output_type": "stream",
     "text": [
      "[[0 0]\n",
      " [0 1]\n",
      " [0 0]\n",
      " ...\n",
      " [0 0]\n",
      " [0 0]\n",
      " [0 0]]\n"
     ]
    }
   ],
   "source": [
    "y_pred = ann.predict(X_test)\n",
    "y_pred = (y_pred > 0.5)\n",
    "print(np.concatenate((y_pred.reshape(len(y_pred),1), y_test.reshape(len(y_test),1)),1))"
   ]
  },
  {
   "cell_type": "markdown",
   "metadata": {
    "colab_type": "text",
    "id": "o0oyfLWoaEGw"
   },
   "source": [
    "### Making the Confusion Matrix"
   ]
  },
  {
   "cell_type": "code",
   "execution_count": 21,
   "metadata": {
    "colab": {
     "base_uri": "https://localhost:8080/",
     "height": 68
    },
    "colab_type": "code",
    "id": "ci6K_r6LaF6P",
    "outputId": "4d854e9e-22d5-432f-f6e5-a102fe3ae0bd"
   },
   "outputs": [
    {
     "name": "stdout",
     "output_type": "stream",
     "text": [
      "[[1488  107]\n",
      " [ 174  231]]\n",
      "              precision    recall  f1-score   support\n",
      "\n",
      "           0       0.90      0.93      0.91      1595\n",
      "           1       0.68      0.57      0.62       405\n",
      "\n",
      "    accuracy                           0.86      2000\n",
      "   macro avg       0.79      0.75      0.77      2000\n",
      "weighted avg       0.85      0.86      0.85      2000\n",
      "\n"
     ]
    }
   ],
   "source": [
    "from sklearn.metrics import confusion_matrix, classification_report\n",
    "cm = confusion_matrix(y_test, y_pred)\n",
    "print(cm)\n",
    "print(classification_report(y_test, y_pred))"
   ]
  },
  {
   "cell_type": "code",
   "execution_count": null,
   "metadata": {},
   "outputs": [],
   "source": []
  }
 ],
 "metadata": {
  "colab": {
   "collapsed_sections": [],
   "name": "artificial_neural_network.ipynb",
   "provenance": [],
   "toc_visible": true
  },
  "kernelspec": {
   "display_name": "Python 3",
   "language": "python",
   "name": "python3"
  },
  "language_info": {
   "codemirror_mode": {
    "name": "ipython",
    "version": 3
   },
   "file_extension": ".py",
   "mimetype": "text/x-python",
   "name": "python",
   "nbconvert_exporter": "python",
   "pygments_lexer": "ipython3",
   "version": "3.7.6"
  }
 },
 "nbformat": 4,
 "nbformat_minor": 1
}
