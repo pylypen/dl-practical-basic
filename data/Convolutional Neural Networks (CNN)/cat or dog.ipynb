{
 "cells": [
  {
   "cell_type": "markdown",
   "metadata": {
    "colab_type": "text",
    "id": "3DR-eO17geWu"
   },
   "source": [
    "# Convolutional Neural Network"
   ]
  },
  {
   "cell_type": "markdown",
   "metadata": {
    "colab_type": "text",
    "id": "EMefrVPCg-60"
   },
   "source": [
    "### Importing the libraries"
   ]
  },
  {
   "cell_type": "code",
   "execution_count": 1,
   "metadata": {
    "colab": {},
    "colab_type": "code",
    "id": "sCV30xyVhFbE"
   },
   "outputs": [],
   "source": [
    "import tensorflow as tf\n",
    "from keras.preprocessing.image import ImageDataGenerator"
   ]
  },
  {
   "cell_type": "code",
   "execution_count": 2,
   "metadata": {
    "colab": {},
    "colab_type": "code",
    "id": "FIleuCAjoFD8"
   },
   "outputs": [
    {
     "data": {
      "text/plain": [
       "'2.3.0'"
      ]
     },
     "execution_count": 2,
     "metadata": {},
     "output_type": "execute_result"
    }
   ],
   "source": [
    "tf.__version__"
   ]
  },
  {
   "cell_type": "markdown",
   "metadata": {
    "colab_type": "text",
    "id": "oxQxCBWyoGPE"
   },
   "source": [
    "## Part 1 - Data Preprocessing"
   ]
  },
  {
   "cell_type": "markdown",
   "metadata": {
    "colab_type": "text",
    "id": "MvE-heJNo3GG"
   },
   "source": [
    "### Preprocessing the Training set"
   ]
  },
  {
   "cell_type": "code",
   "execution_count": 3,
   "metadata": {
    "colab": {},
    "colab_type": "code",
    "id": "0koUcJMJpEBD"
   },
   "outputs": [
    {
     "name": "stdout",
     "output_type": "stream",
     "text": [
      "Found 8000 images belonging to 2 classes.\n"
     ]
    }
   ],
   "source": [
    "train_datagen = ImageDataGenerator(rescale = 1./255,\n",
    "                                   shear_range = 0.2,\n",
    "                                   zoom_range = 0.2,\n",
    "                                   horizontal_flip = True)\n",
    "training_set = train_datagen.flow_from_directory('dataset/training_set',\n",
    "                                                 target_size = (64, 64),\n",
    "                                                 batch_size = 128,\n",
    "                                                 class_mode = 'binary')"
   ]
  },
  {
   "cell_type": "markdown",
   "metadata": {
    "colab_type": "text",
    "id": "mrCMmGw9pHys"
   },
   "source": [
    "### Preprocessing the Test set"
   ]
  },
  {
   "cell_type": "code",
   "execution_count": 4,
   "metadata": {
    "colab": {},
    "colab_type": "code",
    "id": "SH4WzfOhpKc3"
   },
   "outputs": [
    {
     "name": "stdout",
     "output_type": "stream",
     "text": [
      "Found 2000 images belonging to 2 classes.\n"
     ]
    }
   ],
   "source": [
    "test_datagen = ImageDataGenerator(rescale = 1./255)\n",
    "test_set = test_datagen.flow_from_directory('dataset/test_set',\n",
    "                                            target_size = (64, 64),\n",
    "                                            batch_size = 128,\n",
    "                                            class_mode = 'binary')"
   ]
  },
  {
   "cell_type": "markdown",
   "metadata": {
    "colab_type": "text",
    "id": "af8O4l90gk7B"
   },
   "source": [
    "## Part 2 - Building the CNN"
   ]
  },
  {
   "cell_type": "markdown",
   "metadata": {
    "colab_type": "text",
    "id": "ces1gXY2lmoX"
   },
   "source": [
    "### Initialising the CNN"
   ]
  },
  {
   "cell_type": "code",
   "execution_count": 5,
   "metadata": {
    "colab": {},
    "colab_type": "code",
    "id": "SAUt4UMPlhLS"
   },
   "outputs": [],
   "source": [
    "cnn = tf.keras.models.Sequential()"
   ]
  },
  {
   "cell_type": "markdown",
   "metadata": {
    "colab_type": "text",
    "id": "u5YJj_XMl5LF"
   },
   "source": [
    "### Step 1 - Convolution"
   ]
  },
  {
   "cell_type": "code",
   "execution_count": 6,
   "metadata": {
    "colab": {},
    "colab_type": "code",
    "id": "XPzPrMckl-hV"
   },
   "outputs": [],
   "source": [
    "cnn.add(tf.keras.layers.Conv2D(filters=32, kernel_size=3, activation='relu', input_shape=[64, 64, 3]))"
   ]
  },
  {
   "cell_type": "markdown",
   "metadata": {
    "colab_type": "text",
    "id": "tf87FpvxmNOJ"
   },
   "source": [
    "### Step 2 - Pooling"
   ]
  },
  {
   "cell_type": "code",
   "execution_count": 7,
   "metadata": {
    "colab": {},
    "colab_type": "code",
    "id": "ncpqPl69mOac"
   },
   "outputs": [],
   "source": [
    "cnn.add(tf.keras.layers.MaxPool2D(pool_size=2, strides=2))"
   ]
  },
  {
   "cell_type": "markdown",
   "metadata": {
    "colab_type": "text",
    "id": "xaTOgD8rm4mU"
   },
   "source": [
    "### Adding a second convolutional layer"
   ]
  },
  {
   "cell_type": "code",
   "execution_count": 8,
   "metadata": {
    "colab": {},
    "colab_type": "code",
    "id": "i_-FZjn_m8gk"
   },
   "outputs": [],
   "source": [
    "cnn.add(tf.keras.layers.Conv2D(filters=32, kernel_size=3, activation='relu'))\n",
    "cnn.add(tf.keras.layers.MaxPool2D(pool_size=2, strides=2))"
   ]
  },
  {
   "cell_type": "markdown",
   "metadata": {
    "colab_type": "text",
    "id": "tmiEuvTunKfk"
   },
   "source": [
    "### Step 3 - Flattening"
   ]
  },
  {
   "cell_type": "code",
   "execution_count": 9,
   "metadata": {
    "colab": {},
    "colab_type": "code",
    "id": "6AZeOGCvnNZn"
   },
   "outputs": [],
   "source": [
    "cnn.add(tf.keras.layers.Flatten())"
   ]
  },
  {
   "cell_type": "markdown",
   "metadata": {
    "colab_type": "text",
    "id": "dAoSECOm203v"
   },
   "source": [
    "### Step 4 - Full Connection"
   ]
  },
  {
   "cell_type": "code",
   "execution_count": 10,
   "metadata": {
    "colab": {},
    "colab_type": "code",
    "id": "8GtmUlLd26Nq"
   },
   "outputs": [],
   "source": [
    "cnn.add(tf.keras.layers.Dense(units=128, activation='relu'))"
   ]
  },
  {
   "cell_type": "markdown",
   "metadata": {
    "colab_type": "text",
    "id": "yTldFvbX28Na"
   },
   "source": [
    "### Step 5 - Output Layer"
   ]
  },
  {
   "cell_type": "code",
   "execution_count": 11,
   "metadata": {
    "colab": {},
    "colab_type": "code",
    "id": "1p_Zj1Mc3Ko_"
   },
   "outputs": [],
   "source": [
    "cnn.add(tf.keras.layers.Dense(units=1, activation='sigmoid'))"
   ]
  },
  {
   "cell_type": "markdown",
   "metadata": {
    "colab_type": "text",
    "id": "D6XkI90snSDl"
   },
   "source": [
    "## Part 3 - Training the CNN"
   ]
  },
  {
   "cell_type": "markdown",
   "metadata": {
    "colab_type": "text",
    "id": "vfrFQACEnc6i"
   },
   "source": [
    "### Compiling the CNN"
   ]
  },
  {
   "cell_type": "code",
   "execution_count": 12,
   "metadata": {
    "colab": {},
    "colab_type": "code",
    "id": "NALksrNQpUlJ"
   },
   "outputs": [],
   "source": [
    "cnn.compile(optimizer = 'adam', loss = 'binary_crossentropy', metrics = ['accuracy'])"
   ]
  },
  {
   "cell_type": "markdown",
   "metadata": {
    "colab_type": "text",
    "id": "ehS-v3MIpX2h"
   },
   "source": [
    "### Training the CNN on the Training set and evaluating it on the Test set"
   ]
  },
  {
   "cell_type": "code",
   "execution_count": 13,
   "metadata": {
    "colab": {},
    "colab_type": "code",
    "id": "XUj1W4PJptta"
   },
   "outputs": [
    {
     "name": "stdout",
     "output_type": "stream",
     "text": [
      "Epoch 1/25\n",
      "63/63 [==============================] - 28s 446ms/step - loss: 0.6905 - accuracy: 0.5403 - val_loss: 0.6665 - val_accuracy: 0.5595\n",
      "Epoch 2/25\n",
      "63/63 [==============================] - 28s 445ms/step - loss: 0.6225 - accuracy: 0.6534 - val_loss: 0.6192 - val_accuracy: 0.6580\n",
      "Epoch 3/25\n",
      "63/63 [==============================] - 28s 442ms/step - loss: 0.5918 - accuracy: 0.6789 - val_loss: 0.5731 - val_accuracy: 0.7125\n",
      "Epoch 4/25\n",
      "63/63 [==============================] - 28s 444ms/step - loss: 0.5719 - accuracy: 0.7040 - val_loss: 0.5516 - val_accuracy: 0.7275\n",
      "Epoch 5/25\n",
      "63/63 [==============================] - 28s 445ms/step - loss: 0.5505 - accuracy: 0.7150 - val_loss: 0.5303 - val_accuracy: 0.7365\n",
      "Epoch 6/25\n",
      "63/63 [==============================] - 28s 437ms/step - loss: 0.5346 - accuracy: 0.7315 - val_loss: 0.5230 - val_accuracy: 0.7455\n",
      "Epoch 7/25\n",
      "63/63 [==============================] - 28s 438ms/step - loss: 0.5215 - accuracy: 0.7425 - val_loss: 0.5090 - val_accuracy: 0.7590\n",
      "Epoch 8/25\n",
      "63/63 [==============================] - 28s 437ms/step - loss: 0.5030 - accuracy: 0.7509 - val_loss: 0.6096 - val_accuracy: 0.7050\n",
      "Epoch 9/25\n",
      "63/63 [==============================] - 27s 436ms/step - loss: 0.5111 - accuracy: 0.7506 - val_loss: 0.4911 - val_accuracy: 0.7640\n",
      "Epoch 10/25\n",
      "63/63 [==============================] - 28s 437ms/step - loss: 0.4869 - accuracy: 0.7589 - val_loss: 0.4878 - val_accuracy: 0.7685\n",
      "Epoch 11/25\n",
      "63/63 [==============================] - 28s 438ms/step - loss: 0.4858 - accuracy: 0.7642 - val_loss: 0.4960 - val_accuracy: 0.7655\n",
      "Epoch 12/25\n",
      "63/63 [==============================] - 27s 436ms/step - loss: 0.4703 - accuracy: 0.7757 - val_loss: 0.4865 - val_accuracy: 0.7645\n",
      "Epoch 13/25\n",
      "63/63 [==============================] - 28s 437ms/step - loss: 0.4543 - accuracy: 0.7824 - val_loss: 0.4922 - val_accuracy: 0.7750\n",
      "Epoch 14/25\n",
      "63/63 [==============================] - 28s 437ms/step - loss: 0.4482 - accuracy: 0.7883 - val_loss: 0.4895 - val_accuracy: 0.7680\n",
      "Epoch 15/25\n",
      "63/63 [==============================] - 28s 437ms/step - loss: 0.4349 - accuracy: 0.7970 - val_loss: 0.5074 - val_accuracy: 0.7590\n",
      "Epoch 16/25\n",
      "63/63 [==============================] - 27s 436ms/step - loss: 0.4211 - accuracy: 0.8011 - val_loss: 0.4804 - val_accuracy: 0.7885\n",
      "Epoch 17/25\n",
      "63/63 [==============================] - 28s 437ms/step - loss: 0.4164 - accuracy: 0.8073 - val_loss: 0.4833 - val_accuracy: 0.7855\n",
      "Epoch 18/25\n",
      "63/63 [==============================] - 28s 438ms/step - loss: 0.4078 - accuracy: 0.8111 - val_loss: 0.4660 - val_accuracy: 0.7845\n",
      "Epoch 19/25\n",
      "63/63 [==============================] - 28s 437ms/step - loss: 0.3992 - accuracy: 0.8186 - val_loss: 0.5006 - val_accuracy: 0.7765\n",
      "Epoch 20/25\n",
      "63/63 [==============================] - 27s 436ms/step - loss: 0.3966 - accuracy: 0.8188 - val_loss: 0.4931 - val_accuracy: 0.7835\n",
      "Epoch 21/25\n",
      "63/63 [==============================] - 28s 437ms/step - loss: 0.3863 - accuracy: 0.8266 - val_loss: 0.4590 - val_accuracy: 0.8010\n",
      "Epoch 22/25\n",
      "63/63 [==============================] - 28s 437ms/step - loss: 0.3835 - accuracy: 0.8238 - val_loss: 0.4614 - val_accuracy: 0.8045\n",
      "Epoch 23/25\n",
      "63/63 [==============================] - 28s 437ms/step - loss: 0.3727 - accuracy: 0.8301 - val_loss: 0.5224 - val_accuracy: 0.7700\n",
      "Epoch 24/25\n",
      "63/63 [==============================] - 28s 438ms/step - loss: 0.3743 - accuracy: 0.8310 - val_loss: 0.4875 - val_accuracy: 0.7910\n",
      "Epoch 25/25\n",
      "63/63 [==============================] - 28s 439ms/step - loss: 0.3817 - accuracy: 0.8248 - val_loss: 0.5625 - val_accuracy: 0.7475\n"
     ]
    },
    {
     "data": {
      "text/plain": [
       "<tensorflow.python.keras.callbacks.History at 0x7f3f98050990>"
      ]
     },
     "execution_count": 13,
     "metadata": {},
     "output_type": "execute_result"
    }
   ],
   "source": [
    "cnn.fit(x = training_set, validation_data = test_set, epochs = 25)"
   ]
  },
  {
   "cell_type": "markdown",
   "metadata": {
    "colab_type": "text",
    "id": "U3PZasO0006Z"
   },
   "source": [
    "## Part 4 - Making a single prediction"
   ]
  },
  {
   "cell_type": "code",
   "execution_count": 16,
   "metadata": {
    "colab": {},
    "colab_type": "code",
    "id": "gsSiWEJY1BPB"
   },
   "outputs": [],
   "source": [
    "import numpy as np\n",
    "from keras.preprocessing import image\n",
    "test_image = image.load_img('dataset/single_prediction/cat_or_dog_2.jpg', target_size = (64, 64))\n",
    "test_image = image.img_to_array(test_image)\n",
    "test_image = np.expand_dims(test_image, axis = 0)\n",
    "result = cnn.predict(test_image)\n",
    "training_set.class_indices\n",
    "if result[0][0] == 1:\n",
    "  prediction = 'dog'\n",
    "else:\n",
    "  prediction = 'cat'"
   ]
  },
  {
   "cell_type": "code",
   "execution_count": 17,
   "metadata": {
    "colab": {},
    "colab_type": "code",
    "id": "ED9KB3I54c1i"
   },
   "outputs": [
    {
     "name": "stdout",
     "output_type": "stream",
     "text": [
      "cat\n"
     ]
    }
   ],
   "source": [
    "print(prediction)"
   ]
  },
  {
   "cell_type": "code",
   "execution_count": null,
   "metadata": {},
   "outputs": [],
   "source": []
  }
 ],
 "metadata": {
  "colab": {
   "collapsed_sections": [],
   "name": "convolutional_neural_network.ipynb",
   "provenance": [],
   "toc_visible": true
  },
  "kernelspec": {
   "display_name": "Python 3",
   "language": "python",
   "name": "python3"
  },
  "language_info": {
   "codemirror_mode": {
    "name": "ipython",
    "version": 3
   },
   "file_extension": ".py",
   "mimetype": "text/x-python",
   "name": "python",
   "nbconvert_exporter": "python",
   "pygments_lexer": "ipython3",
   "version": "3.7.6"
  }
 },
 "nbformat": 4,
 "nbformat_minor": 1
}
