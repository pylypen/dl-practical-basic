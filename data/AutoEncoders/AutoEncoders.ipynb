{
 "cells": [
  {
   "cell_type": "markdown",
   "metadata": {},
   "source": [
    "# Importing the libraries"
   ]
  },
  {
   "cell_type": "code",
   "execution_count": 1,
   "metadata": {},
   "outputs": [],
   "source": [
    "import numpy as np\n",
    "import pandas as pd\n",
    "import torch\n",
    "import torch.nn as nn\n",
    "import torch.nn.parallel\n",
    "import torch.optim as optim\n",
    "import torch.utils.data\n",
    "from torch.autograd import Variable"
   ]
  },
  {
   "cell_type": "markdown",
   "metadata": {},
   "source": [
    "# Importing the dataset"
   ]
  },
  {
   "cell_type": "code",
   "execution_count": 3,
   "metadata": {},
   "outputs": [],
   "source": [
    "# We won't be using this dataset.\n",
    "movies = pd.read_csv('ml-1m/movies.dat',\n",
    "    sep = '::',\n",
    "    header = None,\n",
    "    engine = 'python',\n",
    "    encoding = 'latin-1')\n",
    "users = pd.read_csv('ml-1m/users.dat',\n",
    "    sep = '::',\n",
    "    header = None,\n",
    "    engine = 'python',\n",
    "    encoding = 'latin-1')\n",
    "ratings = pd.read_csv('ml-1m/ratings.dat',\n",
    "    sep = '::',\n",
    "    header = None,\n",
    "    engine = 'python',\n",
    "    encoding = 'latin-1')"
   ]
  },
  {
   "cell_type": "markdown",
   "metadata": {},
   "source": [
    "# Preparing the training set and the test set"
   ]
  },
  {
   "cell_type": "code",
   "execution_count": 4,
   "metadata": {},
   "outputs": [],
   "source": [
    "training_set = pd.read_csv('ml-100k/u1.base', delimiter = '\\t')\n",
    "training_set = np.array(training_set, dtype = 'int')\n",
    "test_set = pd.read_csv('ml-100k/u1.test', delimiter = '\\t')\n",
    "test_set = np.array(test_set, dtype = 'int')"
   ]
  },
  {
   "cell_type": "markdown",
   "metadata": {},
   "source": [
    "# Getting the number of users and movies"
   ]
  },
  {
   "cell_type": "code",
   "execution_count": 5,
   "metadata": {},
   "outputs": [],
   "source": [
    "nb_users = int(max(max(training_set[:, 0], ), max(test_set[:, 0])))\n",
    "nb_movies = int(max(max(training_set[:, 1], ), max(test_set[:, 1])))"
   ]
  },
  {
   "cell_type": "markdown",
   "metadata": {},
   "source": [
    "# Converting the data into an array with users in lines and movies in columns"
   ]
  },
  {
   "cell_type": "code",
   "execution_count": 6,
   "metadata": {},
   "outputs": [],
   "source": [
    "def convert(data):\n",
    "    new_data = []\n",
    "    for id_users in range(1, nb_users + 1):\n",
    "        id_movies = data[:, 1] [data[:, 0] == id_users]\n",
    "        id_ratings = data[:, 2] [data[:, 0] == id_users]\n",
    "        ratings = np.zeros(nb_movies)\n",
    "        ratings[id_movies - 1] = id_ratings\n",
    "        new_data.append(list(ratings))\n",
    "    return new_data\n",
    "training_set = convert(training_set)\n",
    "test_set = convert(test_set)"
   ]
  },
  {
   "cell_type": "markdown",
   "metadata": {},
   "source": [
    "# Converting the data into Torch tensors"
   ]
  },
  {
   "cell_type": "code",
   "execution_count": 7,
   "metadata": {},
   "outputs": [],
   "source": [
    "training_set = torch.FloatTensor(training_set)\n",
    "test_set = torch.FloatTensor(test_set)"
   ]
  },
  {
   "cell_type": "markdown",
   "metadata": {},
   "source": [
    "# Creating the architecture of the Neural Network"
   ]
  },
  {
   "cell_type": "code",
   "execution_count": 8,
   "metadata": {},
   "outputs": [],
   "source": [
    "class SAE(nn.Module):\n",
    "    def __init__(self, ):\n",
    "        super(SAE, self).__init__()\n",
    "        self.fc1 = nn.Linear(nb_movies, 20)\n",
    "        self.fc2 = nn.Linear(20, 10)\n",
    "        self.fc3 = nn.Linear(10, 20)\n",
    "        self.fc4 = nn.Linear(20, nb_movies)\n",
    "        self.activation = nn.Sigmoid()\n",
    "    def forward(self, x):\n",
    "        x = self.activation(self.fc1(x))\n",
    "        x = self.activation(self.fc2(x))\n",
    "        x = self.activation(self.fc3(x))\n",
    "        x = self.fc4(x)\n",
    "        return x\n",
    "sae = SAE()\n",
    "criterion = nn.MSELoss()\n",
    "optimizer = optim.RMSprop(sae.parameters(), lr = 0.01, weight_decay = 0.5)"
   ]
  },
  {
   "cell_type": "markdown",
   "metadata": {},
   "source": [
    "# Training the SAE"
   ]
  },
  {
   "cell_type": "code",
   "execution_count": 9,
   "metadata": {},
   "outputs": [
    {
     "name": "stdout",
     "output_type": "stream",
     "text": [
      "epoch: 1loss: tensor(1.7708)\n",
      "epoch: 2loss: tensor(1.0967)\n",
      "epoch: 3loss: tensor(1.0533)\n",
      "epoch: 4loss: tensor(1.0385)\n",
      "epoch: 5loss: tensor(1.0309)\n",
      "epoch: 6loss: tensor(1.0264)\n",
      "epoch: 7loss: tensor(1.0239)\n",
      "epoch: 8loss: tensor(1.0219)\n",
      "epoch: 9loss: tensor(1.0210)\n",
      "epoch: 10loss: tensor(1.0196)\n",
      "epoch: 11loss: tensor(1.0190)\n",
      "epoch: 12loss: tensor(1.0185)\n",
      "epoch: 13loss: tensor(1.0180)\n",
      "epoch: 14loss: tensor(1.0176)\n",
      "epoch: 15loss: tensor(1.0173)\n",
      "epoch: 16loss: tensor(1.0170)\n",
      "epoch: 17loss: tensor(1.0168)\n",
      "epoch: 18loss: tensor(1.0165)\n",
      "epoch: 19loss: tensor(1.0164)\n",
      "epoch: 20loss: tensor(1.0162)\n",
      "epoch: 21loss: tensor(1.0161)\n",
      "epoch: 22loss: tensor(1.0159)\n",
      "epoch: 23loss: tensor(1.0157)\n",
      "epoch: 24loss: tensor(1.0160)\n",
      "epoch: 25loss: tensor(1.0154)\n",
      "epoch: 26loss: tensor(1.0156)\n",
      "epoch: 27loss: tensor(1.0153)\n",
      "epoch: 28loss: tensor(1.0151)\n",
      "epoch: 29loss: tensor(1.0129)\n",
      "epoch: 30loss: tensor(1.0117)\n",
      "epoch: 31loss: tensor(1.0106)\n",
      "epoch: 32loss: tensor(1.0084)\n",
      "epoch: 33loss: tensor(1.0070)\n",
      "epoch: 34loss: tensor(1.0040)\n",
      "epoch: 35loss: tensor(1.0033)\n",
      "epoch: 36loss: tensor(1.0000)\n",
      "epoch: 37loss: tensor(0.9973)\n",
      "epoch: 38loss: tensor(0.9949)\n",
      "epoch: 39loss: tensor(0.9945)\n",
      "epoch: 40loss: tensor(0.9911)\n",
      "epoch: 41loss: tensor(0.9900)\n",
      "epoch: 42loss: tensor(0.9896)\n",
      "epoch: 43loss: tensor(0.9874)\n",
      "epoch: 44loss: tensor(0.9858)\n",
      "epoch: 45loss: tensor(0.9853)\n",
      "epoch: 46loss: tensor(0.9818)\n",
      "epoch: 47loss: tensor(0.9806)\n",
      "epoch: 48loss: tensor(0.9794)\n",
      "epoch: 49loss: tensor(0.9810)\n",
      "epoch: 50loss: tensor(0.9784)\n",
      "epoch: 51loss: tensor(0.9768)\n",
      "epoch: 52loss: tensor(0.9721)\n",
      "epoch: 53loss: tensor(0.9706)\n",
      "epoch: 54loss: tensor(0.9690)\n",
      "epoch: 55loss: tensor(0.9677)\n",
      "epoch: 56loss: tensor(0.9663)\n",
      "epoch: 57loss: tensor(0.9672)\n",
      "epoch: 58loss: tensor(0.9618)\n",
      "epoch: 59loss: tensor(0.9644)\n",
      "epoch: 60loss: tensor(0.9569)\n",
      "epoch: 61loss: tensor(0.9581)\n",
      "epoch: 62loss: tensor(0.9559)\n",
      "epoch: 63loss: tensor(0.9541)\n",
      "epoch: 64loss: tensor(0.9554)\n",
      "epoch: 65loss: tensor(0.9534)\n",
      "epoch: 66loss: tensor(0.9506)\n",
      "epoch: 67loss: tensor(0.9559)\n",
      "epoch: 68loss: tensor(0.9521)\n",
      "epoch: 69loss: tensor(0.9504)\n",
      "epoch: 70loss: tensor(0.9496)\n",
      "epoch: 71loss: tensor(0.9492)\n",
      "epoch: 72loss: tensor(0.9463)\n",
      "epoch: 73loss: tensor(0.9471)\n",
      "epoch: 74loss: tensor(0.9474)\n",
      "epoch: 75loss: tensor(0.9500)\n",
      "epoch: 76loss: tensor(0.9450)\n",
      "epoch: 77loss: tensor(0.9456)\n",
      "epoch: 78loss: tensor(0.9433)\n",
      "epoch: 79loss: tensor(0.9449)\n",
      "epoch: 80loss: tensor(0.9411)\n",
      "epoch: 81loss: tensor(0.9439)\n",
      "epoch: 82loss: tensor(0.9406)\n",
      "epoch: 83loss: tensor(0.9420)\n",
      "epoch: 84loss: tensor(0.9385)\n",
      "epoch: 85loss: tensor(0.9407)\n",
      "epoch: 86loss: tensor(0.9380)\n",
      "epoch: 87loss: tensor(0.9395)\n",
      "epoch: 88loss: tensor(0.9377)\n",
      "epoch: 89loss: tensor(0.9387)\n",
      "epoch: 90loss: tensor(0.9355)\n",
      "epoch: 91loss: tensor(0.9370)\n",
      "epoch: 92loss: tensor(0.9342)\n",
      "epoch: 93loss: tensor(0.9365)\n",
      "epoch: 94loss: tensor(0.9345)\n",
      "epoch: 95loss: tensor(0.9361)\n",
      "epoch: 96loss: tensor(0.9340)\n",
      "epoch: 97loss: tensor(0.9345)\n",
      "epoch: 98loss: tensor(0.9326)\n",
      "epoch: 99loss: tensor(0.9338)\n",
      "epoch: 100loss: tensor(0.9320)\n",
      "epoch: 101loss: tensor(0.9323)\n",
      "epoch: 102loss: tensor(0.9310)\n",
      "epoch: 103loss: tensor(0.9322)\n",
      "epoch: 104loss: tensor(0.9307)\n",
      "epoch: 105loss: tensor(0.9318)\n",
      "epoch: 106loss: tensor(0.9298)\n",
      "epoch: 107loss: tensor(0.9309)\n",
      "epoch: 108loss: tensor(0.9304)\n",
      "epoch: 109loss: tensor(0.9302)\n",
      "epoch: 110loss: tensor(0.9291)\n",
      "epoch: 111loss: tensor(0.9299)\n",
      "epoch: 112loss: tensor(0.9283)\n",
      "epoch: 113loss: tensor(0.9291)\n",
      "epoch: 114loss: tensor(0.9276)\n",
      "epoch: 115loss: tensor(0.9284)\n",
      "epoch: 116loss: tensor(0.9268)\n",
      "epoch: 117loss: tensor(0.9277)\n",
      "epoch: 118loss: tensor(0.9262)\n",
      "epoch: 119loss: tensor(0.9273)\n",
      "epoch: 120loss: tensor(0.9257)\n",
      "epoch: 121loss: tensor(0.9264)\n",
      "epoch: 122loss: tensor(0.9252)\n",
      "epoch: 123loss: tensor(0.9255)\n",
      "epoch: 124loss: tensor(0.9246)\n",
      "epoch: 125loss: tensor(0.9251)\n",
      "epoch: 126loss: tensor(0.9240)\n",
      "epoch: 127loss: tensor(0.9245)\n",
      "epoch: 128loss: tensor(0.9234)\n",
      "epoch: 129loss: tensor(0.9239)\n",
      "epoch: 130loss: tensor(0.9227)\n",
      "epoch: 131loss: tensor(0.9234)\n",
      "epoch: 132loss: tensor(0.9222)\n",
      "epoch: 133loss: tensor(0.9230)\n",
      "epoch: 134loss: tensor(0.9216)\n",
      "epoch: 135loss: tensor(0.9224)\n",
      "epoch: 136loss: tensor(0.9212)\n",
      "epoch: 137loss: tensor(0.9216)\n",
      "epoch: 138loss: tensor(0.9208)\n",
      "epoch: 139loss: tensor(0.9214)\n",
      "epoch: 140loss: tensor(0.9203)\n",
      "epoch: 141loss: tensor(0.9206)\n",
      "epoch: 142loss: tensor(0.9197)\n",
      "epoch: 143loss: tensor(0.9201)\n",
      "epoch: 144loss: tensor(0.9195)\n",
      "epoch: 145loss: tensor(0.9197)\n",
      "epoch: 146loss: tensor(0.9190)\n",
      "epoch: 147loss: tensor(0.9193)\n",
      "epoch: 148loss: tensor(0.9187)\n",
      "epoch: 149loss: tensor(0.9186)\n",
      "epoch: 150loss: tensor(0.9181)\n",
      "epoch: 151loss: tensor(0.9184)\n",
      "epoch: 152loss: tensor(0.9178)\n",
      "epoch: 153loss: tensor(0.9180)\n",
      "epoch: 154loss: tensor(0.9174)\n",
      "epoch: 155loss: tensor(0.9175)\n",
      "epoch: 156loss: tensor(0.9170)\n",
      "epoch: 157loss: tensor(0.9176)\n",
      "epoch: 158loss: tensor(0.9168)\n",
      "epoch: 159loss: tensor(0.9171)\n",
      "epoch: 160loss: tensor(0.9165)\n",
      "epoch: 161loss: tensor(0.9166)\n",
      "epoch: 162loss: tensor(0.9161)\n",
      "epoch: 163loss: tensor(0.9166)\n",
      "epoch: 164loss: tensor(0.9160)\n",
      "epoch: 165loss: tensor(0.9161)\n",
      "epoch: 166loss: tensor(0.9157)\n",
      "epoch: 167loss: tensor(0.9156)\n",
      "epoch: 168loss: tensor(0.9154)\n",
      "epoch: 169loss: tensor(0.9153)\n",
      "epoch: 170loss: tensor(0.9148)\n",
      "epoch: 171loss: tensor(0.9149)\n",
      "epoch: 172loss: tensor(0.9145)\n",
      "epoch: 173loss: tensor(0.9147)\n",
      "epoch: 174loss: tensor(0.9143)\n",
      "epoch: 175loss: tensor(0.9144)\n",
      "epoch: 176loss: tensor(0.9139)\n",
      "epoch: 177loss: tensor(0.9141)\n",
      "epoch: 178loss: tensor(0.9135)\n",
      "epoch: 179loss: tensor(0.9139)\n",
      "epoch: 180loss: tensor(0.9133)\n",
      "epoch: 181loss: tensor(0.9138)\n",
      "epoch: 182loss: tensor(0.9132)\n",
      "epoch: 183loss: tensor(0.9134)\n",
      "epoch: 184loss: tensor(0.9129)\n",
      "epoch: 185loss: tensor(0.9131)\n",
      "epoch: 186loss: tensor(0.9126)\n",
      "epoch: 187loss: tensor(0.9130)\n",
      "epoch: 188loss: tensor(0.9126)\n",
      "epoch: 189loss: tensor(0.9128)\n",
      "epoch: 190loss: tensor(0.9121)\n",
      "epoch: 191loss: tensor(0.9123)\n",
      "epoch: 192loss: tensor(0.9123)\n",
      "epoch: 193loss: tensor(0.9124)\n",
      "epoch: 194loss: tensor(0.9117)\n",
      "epoch: 195loss: tensor(0.9120)\n",
      "epoch: 196loss: tensor(0.9114)\n",
      "epoch: 197loss: tensor(0.9117)\n",
      "epoch: 198loss: tensor(0.9111)\n",
      "epoch: 199loss: tensor(0.9114)\n",
      "epoch: 200loss: tensor(0.9112)\n"
     ]
    }
   ],
   "source": [
    "nb_epoch = 200\n",
    "for epoch in range(1, nb_epoch + 1):\n",
    "    train_loss = 0\n",
    "    s = 0.\n",
    "    for id_user in range(nb_users):\n",
    "        input = Variable(training_set[id_user]).unsqueeze(0)\n",
    "        target = input.clone()\n",
    "        if torch.sum(target.data > 0) > 0:\n",
    "            output = sae(input)\n",
    "            target.require_grad = False\n",
    "            output[target == 0] = 0\n",
    "            loss = criterion(output, target)\n",
    "            mean_corrector = nb_movies/float(torch.sum(target.data > 0) + 1e-10)\n",
    "            loss.backward()\n",
    "            train_loss += np.sqrt(loss.data*mean_corrector)\n",
    "            s += 1.\n",
    "            optimizer.step()\n",
    "    print('epoch: '+str(epoch)+'loss: '+ str(train_loss/s))"
   ]
  },
  {
   "cell_type": "markdown",
   "metadata": {},
   "source": [
    "# Testing the SAE"
   ]
  },
  {
   "cell_type": "code",
   "execution_count": 11,
   "metadata": {},
   "outputs": [
    {
     "name": "stdout",
     "output_type": "stream",
     "text": [
      "loss: tensor(0.9550)\n"
     ]
    }
   ],
   "source": [
    "test_loss = 0\n",
    "s = 0.\n",
    "for id_user in range(nb_users):\n",
    "    input = Variable(training_set[id_user]).unsqueeze(0)\n",
    "    target = Variable(test_set[id_user]).unsqueeze(0)\n",
    "    if torch.sum(target.data > 0) > 0:\n",
    "        output = sae(input)\n",
    "        target.require_grad = False\n",
    "        output[target == 0] = 0\n",
    "        loss = criterion(output, target)\n",
    "        mean_corrector = nb_movies/float(torch.sum(target.data > 0) + 1e-10)\n",
    "        test_loss += np.sqrt(loss.data*mean_corrector)\n",
    "        s += 1.\n",
    "print('loss: '+ str(test_loss/s))"
   ]
  },
  {
   "cell_type": "code",
   "execution_count": null,
   "metadata": {},
   "outputs": [],
   "source": []
  }
 ],
 "metadata": {
  "kernelspec": {
   "display_name": "Python 3",
   "language": "python",
   "name": "python3"
  },
  "language_info": {
   "codemirror_mode": {
    "name": "ipython",
    "version": 3
   },
   "file_extension": ".py",
   "mimetype": "text/x-python",
   "name": "python",
   "nbconvert_exporter": "python",
   "pygments_lexer": "ipython3",
   "version": "3.7.6"
  }
 },
 "nbformat": 4,
 "nbformat_minor": 4
}
